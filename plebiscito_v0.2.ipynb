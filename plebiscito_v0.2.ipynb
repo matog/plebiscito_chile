{
 "cells": [
  {
   "cell_type": "code",
   "execution_count": 1,
   "id": "8bd7a4d1",
   "metadata": {},
   "outputs": [
    {
     "data": {
      "text/plain": [
       "True"
      ]
     },
     "execution_count": 1,
     "metadata": {},
     "output_type": "execute_result"
    }
   ],
   "source": [
    "import tweepy\n",
    "import json\n",
    "import pandas as pd\n",
    "import random\n",
    "from dotenv import load_dotenv\n",
    "import os\n",
    "import time\n",
    "from datetime import datetime\n",
    "load_dotenv()"
   ]
  },
  {
   "cell_type": "markdown",
   "id": "cc426b7a",
   "metadata": {},
   "source": [
    "# Sentiment analysis de tweets respecto al plebiscito en Septiembre 2022 Chile\n",
    "\n",
    "Este script busca en tweeter, con la los privilegios de la cuenta develop gratuita, los tweets según las palabras clave, la localización y las fechas determinadas.\n",
    "\n",
    "La información mas importante de cada tweet es guardado en un dataframe.\n",
    "\n",
    "La API libre de twitter tiene varias limitaciones, entre ella la fecha:\n",
    "\n",
    "    Keep in mind that the search index has a 7-day limit. In other words, no tweets will be found for a date older than one week.\n",
    "    \n",
    "No se puede traer tweets mas antiguos que una semana. Ademas del peso sobre la cantidad de tweets, que cuelga la API por 15 minutos"
   ]
  },
  {
   "cell_type": "markdown",
   "id": "13f28a49",
   "metadata": {},
   "source": [
    "##### Definición de palabras clave (_keywords_) a buscar dentro del texto de los tweets:"
   ]
  },
  {
   "cell_type": "code",
   "execution_count": 39,
   "id": "215719a4",
   "metadata": {},
   "outputs": [],
   "source": [
    "keywords_list = ['Constituyente',\n",
    "'Convención Constituyente',\n",
    "'Convención Constitucional',\n",
    "'Asamblea Constituyente',\n",
    "'plebiscito',\n",
    "'referéndum',\n",
    "'constitución chilena',\n",
    "'Acuerdo por la paz social y la Nueva Constitución',\n",
    "'Vamos por Chile',\n",
    "'Unión Demócrata Independiente',\n",
    "'Constituyentes Apartidistas',\n",
    "'Independientes No Neutrales',\n",
    "'Lista del Pueblo',\n",
    "'Apruebo Dignidad',\n",
    "'Lista del Apruebo',\n",
    "'Pueblo Constituyente']\n",
    "\n",
    "keywords_list_II = ['Chile Digno',\n",
    "'Chile Unido',\n",
    "'Unidos por Chile'\n",
    "'Chile Libre',\n",
    "'Coordinadora Constituyente Plurinacional y Popular',\n",
    "'Somos región',\n",
    "'Colectivo Socialista',\n",
    "'Independientes por una Nueva Constitución',\n",
    "'Movimientos sociales constituyentes',\n",
    "'Colectivo del Apruebo',\n",
    "'Wallmapur',\n",
    "'Elisa Loncón',\n",
    "'Campaña de desprestigio',\n",
    "'rechazo del prebiscito de 2020',\n",
    "'Carmen Gloria Valladares Moyano',\n",
    "'Elisa Loncon',\n",
    "'Destitucion de Elisa Loncon']"
   ]
  },
  {
   "cell_type": "code",
   "execution_count": 40,
   "id": "8473d54b",
   "metadata": {},
   "outputs": [],
   "source": [
    "keywords_list = [\"(\" + word + \")\" for word in keywords_list]"
   ]
  },
  {
   "cell_type": "markdown",
   "id": "7e55ba0a",
   "metadata": {},
   "source": [
    "'#DestitucionDeElisaLoncon',\n",
    "'juicio político',\n",
    "'Jaime Bassa',\n",
    "'Marcela Cubillos',\n",
    "'Jaime Mañalich',\n",
    "'Autodesprestigio',\n",
    "'María Elisa Quinteros Cáceres',\n",
    "'Gaspar Dominguez Donoso']"
   ]
  },
  {
   "cell_type": "code",
   "execution_count": 41,
   "id": "25be32d1",
   "metadata": {},
   "outputs": [],
   "source": [
    "keywords_list  = ' OR '.join(keywords_list)"
   ]
  },
  {
   "cell_type": "code",
   "execution_count": 42,
   "id": "457ac2cd",
   "metadata": {},
   "outputs": [
    {
     "data": {
      "text/plain": [
       "'(Constituyente) OR (Convención Constituyente) OR (Convención Constitucional) OR (Asamblea Constituyente) OR (plebiscito) OR (referéndum) OR (constitución chilena) OR (Acuerdo por la paz social y la Nueva Constitución) OR (Vamos por Chile) OR (Unión Demócrata Independiente) OR (Constituyentes Apartidistas) OR (Independientes No Neutrales) OR (Lista del Pueblo) OR (Apruebo Dignidad) OR (Lista del Apruebo) OR (Pueblo Constituyente)'"
      ]
     },
     "execution_count": 42,
     "metadata": {},
     "output_type": "execute_result"
    }
   ],
   "source": [
    "keywords_list"
   ]
  },
  {
   "cell_type": "markdown",
   "id": "27ce9154",
   "metadata": {},
   "source": [
    "#### Funciones\n",
    "El script tiene dos funciones principales:\n",
    "- Activación de la API con las credenciales\n",
    "- Búsqueda de los tweets con lo parámetros definidos"
   ]
  },
  {
   "cell_type": "markdown",
   "id": "2d7650e0",
   "metadata": {},
   "source": [
    "##### Función Activación"
   ]
  },
  {
   "cell_type": "code",
   "execution_count": 34,
   "id": "59f6b2fd",
   "metadata": {},
   "outputs": [],
   "source": [
    "# Función de generación de la API\n",
    "def oauth():\n",
    "    #Pass in our twitter API authentication key\n",
    "#     consumer_key = os.getenv('CONSUMER_KEY')\n",
    "#     consumer_secret = os.getenv('CONSUMER_SECRET')\n",
    "#     access_token = os.getenv('ACCESS_TOKEN')\n",
    "#     access_token_secret = os.getenv('ACCESS_TOKEN_SECRET')\n",
    "    \n",
    "    auth = tweepy.OAuth2BearerHandler('BEARER_TOKEN')\n",
    "    api = tweepy.API(auth)\n",
    "#     auth = tweepy.OAuth1UserHandler(\n",
    "#         consumer_key, consumer_secret,\n",
    "#         access_token, access_token_secret\n",
    "#     )\n",
    "    #Instantiate the tweepy API\n",
    "    api = tweepy.API(auth, wait_on_rate_limit=True)\n",
    "    return api"
   ]
  },
  {
   "cell_type": "markdown",
   "id": "7766fdee",
   "metadata": {},
   "source": [
    "##### Función Búsqueda"
   ]
  },
  {
   "cell_type": "code",
   "execution_count": 21,
   "id": "e44e83c4",
   "metadata": {},
   "outputs": [],
   "source": [
    "# Función de búsqueda de tweets según los keywords, cantidad y localización\n",
    "def search(geo, search_query, page_limit):\n",
    "    page_no = 1\n",
    "    # Creamos las columnas para el DataFrame\n",
    "    data = []\n",
    "    columns = ['Time','User', 'Tweet']\n",
    "    try:\n",
    "        # Lanzamos la búsqueda\n",
    "        pages = tweepy.Cursor(api.search_tweets,\n",
    "                              q=search_query, \n",
    "                              tweet_mode='extended', \n",
    "                              geocode = geo).pages(page_limit)\n",
    "\n",
    "        # Iteramos por cada una de las páginas de resultados, y agregamos los resultados a una lista\n",
    "        for page in pages:    \n",
    "            for i in range(len(page)):\n",
    "                data.append([page[i].created_at, page[i].user.screen_name, page[i].full_text])\n",
    "            page_no += 1\n",
    "        \n",
    "        # Volcamos los datos al DataFrame\n",
    "        df = pd.DataFrame(data, columns=columns) \n",
    "        \n",
    "        return df\n",
    "    \n",
    "    except BaseException as e:\n",
    "        print('Status Failed On,',str(e))\n",
    "        return"
   ]
  },
  {
   "cell_type": "markdown",
   "id": "76f103c1",
   "metadata": {},
   "source": [
    "#### Ejecución "
   ]
  },
  {
   "cell_type": "markdown",
   "id": "7e7f09a3",
   "metadata": {},
   "source": [
    "##### Instanciamos la API"
   ]
  },
  {
   "cell_type": "code",
   "execution_count": 9,
   "id": "bc177bea",
   "metadata": {},
   "outputs": [],
   "source": [
    "api = oauth()"
   ]
  },
  {
   "cell_type": "markdown",
   "id": "65b16e38",
   "metadata": {},
   "source": [
    "#####  Cargamos los parámetros de búsqueda\n",
    "\n",
    "\n",
    "- `sgo`: latitud y longitud de Santiago de Chile\n",
    "- `radio`: radio en km alrededor del punto\n",
    "- `no_of_tweets`: Cantidad de tweets para cada keyword\n",
    "- `geo`: arma el feature según lo cargado anteriormente, con la ciudad y el radio.\n",
    "- `keywords_list`: Se incluye en esta sección sólo para testear. Se limita a dos palabras. Si se comenta esa línea, usa toda la lista presentada arriba)"
   ]
  },
  {
   "cell_type": "code",
   "execution_count": 50,
   "id": "f8bad0e9",
   "metadata": {},
   "outputs": [],
   "source": [
    "sgo = '-33.4489,-70.6693'\n",
    "radio = '100km'\n",
    "page_limit =50\n",
    "geo = str(sgo) + ',' + str(radio) \n",
    "# keywords_list = ['Chile'] # Comentar esta linea para usar toda la keywords_list\n"
   ]
  },
  {
   "cell_type": "code",
   "execution_count": 51,
   "id": "ee3985ac",
   "metadata": {},
   "outputs": [
    {
     "data": {
      "text/plain": [
       "'(Constituyente) OR (Convención Constituyente) OR (Convención Constitucional) OR (Asamblea Constituyente) OR (plebiscito) OR (referéndum) OR (constitución chilena) OR (Acuerdo por la paz social y la Nueva Constitución) OR (Vamos por Chile) OR (Unión Demócrata Independiente) OR (Constituyentes Apartidistas) OR (Independientes No Neutrales) OR (Lista del Pueblo) OR (Apruebo Dignidad) OR (Lista del Apruebo) OR (Pueblo Constituyente)'"
      ]
     },
     "execution_count": 51,
     "metadata": {},
     "output_type": "execute_result"
    }
   ],
   "source": [
    "keywords_list"
   ]
  },
  {
   "cell_type": "markdown",
   "id": "931f805e",
   "metadata": {},
   "source": [
    "#####  Lanzamos la búsqueda"
   ]
  },
  {
   "cell_type": "code",
   "execution_count": 52,
   "id": "aaee227c",
   "metadata": {},
   "outputs": [],
   "source": [
    "# df = pd.DataFrame()\n",
    "df = search(geo,\n",
    "            keywords_list,\n",
    "            page_limit)\n"
   ]
  },
  {
   "cell_type": "code",
   "execution_count": 53,
   "id": "149277ef",
   "metadata": {},
   "outputs": [
    {
     "data": {
      "text/html": [
       "<div>\n",
       "<style scoped>\n",
       "    .dataframe tbody tr th:only-of-type {\n",
       "        vertical-align: middle;\n",
       "    }\n",
       "\n",
       "    .dataframe tbody tr th {\n",
       "        vertical-align: top;\n",
       "    }\n",
       "\n",
       "    .dataframe thead th {\n",
       "        text-align: right;\n",
       "    }\n",
       "</style>\n",
       "<table border=\"1\" class=\"dataframe\">\n",
       "  <thead>\n",
       "    <tr style=\"text-align: right;\">\n",
       "      <th></th>\n",
       "      <th>Time</th>\n",
       "      <th>User</th>\n",
       "      <th>Tweet</th>\n",
       "    </tr>\n",
       "  </thead>\n",
       "  <tbody>\n",
       "    <tr>\n",
       "      <th>0</th>\n",
       "      <td>2022-08-24 17:31:16+00:00</td>\n",
       "      <td>umana_patricio</td>\n",
       "      <td>@melnicksergio El elenco del r3ch4z0 que en la franja prometen una escrita con amor...\\nPero la verdad son solo odio...\\nAcá le dejo las palabras de Rocío cantuarias, constituyente del r3ch4z0... https://t.co/jRkRb4cYJX</td>\n",
       "    </tr>\n",
       "    <tr>\n",
       "      <th>1</th>\n",
       "      <td>2022-08-24 17:30:39+00:00</td>\n",
       "      <td>Celia_Alejandra</td>\n",
       "      <td>El presidente sólo cumple con su obligación de llamar a participar en el plebiscito, pues ambas opciones son igual de válidas (🤥). https://t.co/5D1n78bWu2</td>\n",
       "    </tr>\n",
       "    <tr>\n",
       "      <th>2</th>\n",
       "      <td>2022-08-24 17:29:26+00:00</td>\n",
       "      <td>norasussy</td>\n",
       "      <td>@carreragonzalo @libre_porchile Los empresarios desconocen el real y aplastante objetivo y poder de los indigenistas q recibirán desde el texto constituyente?\\nTendrán Escaños Reservados en todos los organismos nacionales:\\nCám. d Diput.\\nCám. d las regiones\\nConsejo Municipal\\nComi. d Fiscaliz d E* d Excepc.\\nAC.?</td>\n",
       "    </tr>\n",
       "    <tr>\n",
       "      <th>3</th>\n",
       "      <td>2022-08-24 17:29:03+00:00</td>\n",
       "      <td>RernstDe</td>\n",
       "      <td>@Jacquel53524526 @AlvaroB16162393 @hernan_sr En principio claro. Pero hoy me es sospechoso. A semanas de un plebiscito derrepente ahora si?</td>\n",
       "    </tr>\n",
       "    <tr>\n",
       "      <th>4</th>\n",
       "      <td>2022-08-24 17:28:57+00:00</td>\n",
       "      <td>jpiquer</td>\n",
       "      <td>@MikevanTreek @Jicahis El problema es el NO cambio de hora, que es el día antes del plebiscito y dónde muchos relojes pueden cambiar la hora por error.</td>\n",
       "    </tr>\n",
       "    <tr>\n",
       "      <th>...</th>\n",
       "      <td>...</td>\n",
       "      <td>...</td>\n",
       "      <td>...</td>\n",
       "    </tr>\n",
       "    <tr>\n",
       "      <th>745</th>\n",
       "      <td>2022-08-23 20:51:22+00:00</td>\n",
       "      <td>victorar1966</td>\n",
       "      <td>Aquí en twitter nos hemos alejado del foco de este plebiscito. El 4/S se vota si se acepta esta propuesta de NC o se rechaza. Así de simple. Que si este es feo o que robo o que es flojo.....eso no corre.. Apruebe o Rechace.</td>\n",
       "    </tr>\n",
       "    <tr>\n",
       "      <th>746</th>\n",
       "      <td>2022-08-23 20:49:11+00:00</td>\n",
       "      <td>finco</td>\n",
       "      <td>@SenadoresDC @ximerincon @matiaswalkerp @24HorasTVN @CNNChile @CHVNoticias @meganoticiascl @T13 @biobio wajajaja dos semanas antes del plebiscito, DOS SEMANAS, no les da verguenza. #AprueboUnChileMejor</td>\n",
       "    </tr>\n",
       "    <tr>\n",
       "      <th>747</th>\n",
       "      <td>2022-08-23 20:47:23+00:00</td>\n",
       "      <td>rodosauriorex</td>\n",
       "      <td>@fireman331 @rafagotelli @DFinanciero Y cual es el objetivo de reactivarlo justo ahora?? Solo busca subir un par de puntos de aprobación de cara al plebiscito. Gobietno inútil y populista.</td>\n",
       "    </tr>\n",
       "    <tr>\n",
       "      <th>748</th>\n",
       "      <td>2022-08-23 20:47:23+00:00</td>\n",
       "      <td>LuchadoraSocial</td>\n",
       "      <td>@mariacris1708 ¿Y el no es político? Tengo entendido que fue en la lista de Apruebo Dignidad en cupo de Convergencia Social y salió electo por gestión de un partido político. Cuidado.</td>\n",
       "    </tr>\n",
       "    <tr>\n",
       "      <th>749</th>\n",
       "      <td>2022-08-23 20:47:04+00:00</td>\n",
       "      <td>El_Ciudadano</td>\n",
       "      <td>Desde el anuncio del Gobierno en La Moneda de la reactivación del proyecto de #40Horas de jornada laboral, el parlamentario independiente de Apruebo Dignidad y ex sindicalista @AndresGiordanoS se refiere a esta importante iniciativa legislativa\\n\\n#chile #jornadalaboral https://t.co/fb943IaHfC</td>\n",
       "    </tr>\n",
       "  </tbody>\n",
       "</table>\n",
       "<p>750 rows × 3 columns</p>\n",
       "</div>"
      ],
      "text/plain": [
       "                         Time             User  \\\n",
       "0   2022-08-24 17:31:16+00:00   umana_patricio   \n",
       "1   2022-08-24 17:30:39+00:00  Celia_Alejandra   \n",
       "2   2022-08-24 17:29:26+00:00        norasussy   \n",
       "3   2022-08-24 17:29:03+00:00         RernstDe   \n",
       "4   2022-08-24 17:28:57+00:00          jpiquer   \n",
       "..                        ...              ...   \n",
       "745 2022-08-23 20:51:22+00:00     victorar1966   \n",
       "746 2022-08-23 20:49:11+00:00            finco   \n",
       "747 2022-08-23 20:47:23+00:00    rodosauriorex   \n",
       "748 2022-08-23 20:47:23+00:00  LuchadoraSocial   \n",
       "749 2022-08-23 20:47:04+00:00     El_Ciudadano   \n",
       "\n",
       "                                                                                                                                                                                                                                                                                                                            Tweet  \n",
       "0                                                                                                     @melnicksergio El elenco del r3ch4z0 que en la franja prometen una escrita con amor...\\nPero la verdad son solo odio...\\nAcá le dejo las palabras de Rocío cantuarias, constituyente del r3ch4z0... https://t.co/jRkRb4cYJX  \n",
       "1                                                                                                                                                                      El presidente sólo cumple con su obligación de llamar a participar en el plebiscito, pues ambas opciones son igual de válidas (🤥). https://t.co/5D1n78bWu2  \n",
       "2    @carreragonzalo @libre_porchile Los empresarios desconocen el real y aplastante objetivo y poder de los indigenistas q recibirán desde el texto constituyente?\\nTendrán Escaños Reservados en todos los organismos nacionales:\\nCám. d Diput.\\nCám. d las regiones\\nConsejo Municipal\\nComi. d Fiscaliz d E* d Excepc.\\nAC.?  \n",
       "3                                                                                                                                                                                     @Jacquel53524526 @AlvaroB16162393 @hernan_sr En principio claro. Pero hoy me es sospechoso. A semanas de un plebiscito derrepente ahora si?  \n",
       "4                                                                                                                                                                         @MikevanTreek @Jicahis El problema es el NO cambio de hora, que es el día antes del plebiscito y dónde muchos relojes pueden cambiar la hora por error.  \n",
       "..                                                                                                                                                                                                                                                                                                                            ...  \n",
       "745                                                                                               Aquí en twitter nos hemos alejado del foco de este plebiscito. El 4/S se vota si se acepta esta propuesta de NC o se rechaza. Así de simple. Que si este es feo o que robo o que es flojo.....eso no corre.. Apruebe o Rechace.  \n",
       "746                                                                                                                     @SenadoresDC @ximerincon @matiaswalkerp @24HorasTVN @CNNChile @CHVNoticias @meganoticiascl @T13 @biobio wajajaja dos semanas antes del plebiscito, DOS SEMANAS, no les da verguenza. #AprueboUnChileMejor  \n",
       "747                                                                                                                                  @fireman331 @rafagotelli @DFinanciero Y cual es el objetivo de reactivarlo justo ahora?? Solo busca subir un par de puntos de aprobación de cara al plebiscito. Gobietno inútil y populista.  \n",
       "748                                                                                                                                       @mariacris1708 ¿Y el no es político? Tengo entendido que fue en la lista de Apruebo Dignidad en cupo de Convergencia Social y salió electo por gestión de un partido político. Cuidado.  \n",
       "749                        Desde el anuncio del Gobierno en La Moneda de la reactivación del proyecto de #40Horas de jornada laboral, el parlamentario independiente de Apruebo Dignidad y ex sindicalista @AndresGiordanoS se refiere a esta importante iniciativa legislativa\\n\\n#chile #jornadalaboral https://t.co/fb943IaHfC  \n",
       "\n",
       "[750 rows x 3 columns]"
      ]
     },
     "execution_count": 53,
     "metadata": {},
     "output_type": "execute_result"
    }
   ],
   "source": [
    "pd.set_option('display.max_colwidth', None)\n",
    "df"
   ]
  },
  {
   "cell_type": "markdown",
   "id": "c330b9c0",
   "metadata": {},
   "source": [
    "#####  Guardamos el dF"
   ]
  },
  {
   "cell_type": "code",
   "execution_count": null,
   "id": "fee00cf5",
   "metadata": {},
   "outputs": [],
   "source": [
    "filename = 'plebiscito_' + datetime.now().strftime('%m_%d_%Y_%H:%M:%S') + '.csv'\n",
    "df.to_csv(filename, index = False)"
   ]
  }
 ],
 "metadata": {
  "hide_input": false,
  "kernelspec": {
   "display_name": "Python 3 (ipykernel)",
   "language": "python",
   "name": "python3"
  },
  "language_info": {
   "codemirror_mode": {
    "name": "ipython",
    "version": 3
   },
   "file_extension": ".py",
   "mimetype": "text/x-python",
   "name": "python",
   "nbconvert_exporter": "python",
   "pygments_lexer": "ipython3",
   "version": "3.10.4"
  }
 },
 "nbformat": 4,
 "nbformat_minor": 5
}
