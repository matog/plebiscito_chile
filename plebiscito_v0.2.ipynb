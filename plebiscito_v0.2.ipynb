{
 "cells": [
  {
   "cell_type": "code",
   "execution_count": 1,
   "id": "8bd7a4d1",
   "metadata": {},
   "outputs": [
    {
     "data": {
      "text/plain": [
       "True"
      ]
     },
     "execution_count": 1,
     "metadata": {},
     "output_type": "execute_result"
    }
   ],
   "source": [
    "import tweepy\n",
    "import json\n",
    "import pandas as pd\n",
    "import random\n",
    "from dotenv import load_dotenv\n",
    "import os\n",
    "import time\n",
    "from datetime import datetime\n",
    "load_dotenv()"
   ]
  },
  {
   "cell_type": "markdown",
   "id": "cc426b7a",
   "metadata": {},
   "source": [
    "# Sentiment analysis de tweets respecto al plebiscito en Septiembre 2022 Chile\n",
    "\n",
    "Este script busca en twiter, con la los privilegios de la cuenta research, los tweets según las palabras clave, la localización y las fechas determinadas.\n",
    "\n",
    "La información mas importante de cada tweet es guardado en un dataframe.\n",
    "\n",
    "La API libre de twitter tiene varias limitaciones, entre ella la fecha:\n",
    "\n",
    "    Keep in mind that the search index has a 7-day limit. In other words, no tweets will be found for a date older than one week.\n",
    "    \n",
    "No se puede traer tweets mas antiguos que una semana. Ademas del peso sobre la cantidad de tweets, que cuelga la API por 15 minutos"
   ]
  },
  {
   "cell_type": "markdown",
   "id": "13f28a49",
   "metadata": {},
   "source": [
    "##### Definición de palabras clave (_keywords_) a buscar dentro del texto de los tweets:"
   ]
  },
  {
   "cell_type": "code",
   "execution_count": 2,
   "id": "215719a4",
   "metadata": {},
   "outputs": [],
   "source": [
    "keywords_list = ['Constituyente',\n",
    "'Convención Constituyente',\n",
    "'Convención Constitucional',\n",
    "'Asamblea Constituyente',\n",
    "'plebiscito',\n",
    "'referéndum',\n",
    "'constitución chilena',\n",
    "'Acuerdo por la paz social y la Nueva Constitución',\n",
    "'Vamos por Chile',\n",
    "'Unión Demócrata Independiente',\n",
    "'Constituyentes Apartidistas',\n",
    "'Independientes No Neutrales',\n",
    "'Lista del Pueblo',\n",
    "'Apruebo Dignidad',\n",
    "'Lista del Apruebo',\n",
    "'Pueblo Constituyente']\n",
    "\n",
    "keywords_list_II = ['Chile Digno',\n",
    "'Chile Unido',\n",
    "'Unidos por Chile'\n",
    "'Chile Libre',\n",
    "'Coordinadora Constituyente Plurinacional y Popular',\n",
    "'Somos región',\n",
    "'Colectivo Socialista',\n",
    "'Independientes por una Nueva Constitución',\n",
    "'Movimientos sociales constituyentes',\n",
    "'Colectivo del Apruebo',\n",
    "'Wallmapur',\n",
    "'Elisa Loncón',\n",
    "'Campaña de desprestigio',\n",
    "'rechazo del prebiscito de 2020',\n",
    "'Carmen Gloria Valladares Moyano',\n",
    "'Elisa Loncon',\n",
    "'Destitucion de Elisa Loncon']"
   ]
  },
  {
   "cell_type": "code",
   "execution_count": 3,
   "id": "8473d54b",
   "metadata": {},
   "outputs": [],
   "source": [
    "keywords_list = [\"(\" + word + \")\" for word in keywords_list]"
   ]
  },
  {
   "cell_type": "markdown",
   "id": "7e55ba0a",
   "metadata": {},
   "source": [
    "'#DestitucionDeElisaLoncon',\n",
    "'juicio político',\n",
    "'Jaime Bassa',\n",
    "'Marcela Cubillos',\n",
    "'Jaime Mañalich',\n",
    "'Autodesprestigio',\n",
    "'María Elisa Quinteros Cáceres',\n",
    "'Gaspar Dominguez Donoso']"
   ]
  },
  {
   "cell_type": "code",
   "execution_count": 4,
   "id": "25be32d1",
   "metadata": {},
   "outputs": [],
   "source": [
    "keywords_list  = ' OR '.join(keywords_list)"
   ]
  },
  {
   "cell_type": "code",
   "execution_count": 5,
   "id": "457ac2cd",
   "metadata": {},
   "outputs": [
    {
     "data": {
      "text/plain": [
       "'(Constituyente) OR (Convención Constituyente) OR (Convención Constitucional) OR (Asamblea Constituyente) OR (plebiscito) OR (referéndum) OR (constitución chilena) OR (Acuerdo por la paz social y la Nueva Constitución) OR (Vamos por Chile) OR (Unión Demócrata Independiente) OR (Constituyentes Apartidistas) OR (Independientes No Neutrales) OR (Lista del Pueblo) OR (Apruebo Dignidad) OR (Lista del Apruebo) OR (Pueblo Constituyente)'"
      ]
     },
     "execution_count": 5,
     "metadata": {},
     "output_type": "execute_result"
    }
   ],
   "source": [
    "keywords_list"
   ]
  },
  {
   "cell_type": "markdown",
   "id": "27ce9154",
   "metadata": {},
   "source": [
    "#### Funciones\n",
    "El script tiene dos funciones principales:\n",
    "- Activación de la API con las credenciales\n",
    "- Búsqueda de los tweets con lo parámetros definidos"
   ]
  },
  {
   "cell_type": "markdown",
   "id": "2d7650e0",
   "metadata": {},
   "source": [
    "##### Función Activación"
   ]
  },
  {
   "cell_type": "code",
   "execution_count": 6,
   "id": "59f6b2fd",
   "metadata": {},
   "outputs": [],
   "source": [
    "# Función de generación de la API\n",
    "def oauth():\n",
    "    #Pass in our twitter API authentication key\n",
    "    consumer_key = os.getenv('CONSUMER_KEY')\n",
    "    consumer_secret = os.getenv('CONSUMER_SECRET')\n",
    "    access_token = os.getenv('ACCESS_TOKEN')\n",
    "    access_token_secret = os.getenv('ACCESS_TOKEN_SECRET')\n",
    "    auth = tweepy.OAuth1UserHandler(\n",
    "        consumer_key, consumer_secret,\n",
    "        access_token, access_token_secret\n",
    "    )\n",
    "#     Instantiate the tweepy API\n",
    "    api = tweepy.API(auth, wait_on_rate_limit=True)\n",
    "    return api"
   ]
  },
  {
   "cell_type": "markdown",
   "id": "7766fdee",
   "metadata": {},
   "source": [
    "##### Función Búsqueda"
   ]
  },
  {
   "cell_type": "code",
   "execution_count": 28,
   "id": "e44e83c4",
   "metadata": {},
   "outputs": [],
   "source": [
    "# Función de búsqueda de tweets según los keywords, cantidad y localización\n",
    "def search(geo, search_query, page_limit):\n",
    "    page_no = 1\n",
    "    # Creamos las columnas para el DataFrame\n",
    "    data = []\n",
    "    dict = {}\n",
    "    page_no = 1\n",
    "\n",
    "    df = pd.DataFrame()\n",
    "    columns = ['Time','User', 'Tweet']\n",
    "    try:\n",
    "        # Lanzamos la búsqueda\n",
    "        pages = tweepy.Cursor(api.search_tweets,\n",
    "                              q=search_query, \n",
    "                              tweet_mode='extended', \n",
    "                              geocode = geo).pages(page_limit)\n",
    "        print(pages)\n",
    "    # Iterate through the pages and print the text of the tweets\n",
    "        for page in pages:    \n",
    "            for i in range(len(page)):\n",
    "                data.append([page[i].created_at, page[i].user.screen_name, page[i].full_text])\n",
    "            page_no += 1\n",
    "        df = pd.DataFrame(data, columns=columns)\n",
    "        return df\n",
    "    \n",
    "    except BaseException as e:\n",
    "        print('Status Failed On,',str(e))\n",
    "        return"
   ]
  },
  {
   "cell_type": "markdown",
   "id": "c0c79465",
   "metadata": {},
   "source": [
    "##### Función Guardar"
   ]
  },
  {
   "cell_type": "code",
   "execution_count": 36,
   "id": "13ee66c5",
   "metadata": {},
   "outputs": [],
   "source": [
    "def save_func(df, file_type):\n",
    "    filename = 'plebiscito_' + datetime.now().strftime('%m_%d_%Y_%H:%M:%S')\n",
    "    if file_type == 'xlsx':\n",
    "        df['Time'] = df['Time'].dt.tz_localize(None) # Excel no soporta Datatime con zonas\n",
    "        filename = filename + '.xlsx'\n",
    "        df.to_excel(filename, index = False)\n",
    "    if file_type == 'csv':\n",
    "        df.replace(',',' ', regex=True, inplace=True)\n",
    "        df.replace('\\n','', regex=True, inplace=True)\n",
    "        filename = filename + '.csv'\n",
    "        df.to_csv(filename, index = False)\n",
    "        "
   ]
  },
  {
   "cell_type": "markdown",
   "id": "76f103c1",
   "metadata": {},
   "source": [
    "#### Ejecución "
   ]
  },
  {
   "cell_type": "markdown",
   "id": "7e7f09a3",
   "metadata": {},
   "source": [
    "##### Instanciamos la API"
   ]
  },
  {
   "cell_type": "code",
   "execution_count": 29,
   "id": "cdc55de9",
   "metadata": {},
   "outputs": [
    {
     "data": {
      "text/plain": [
       "<tweepy.api.API at 0x7f420b656500>"
      ]
     },
     "execution_count": 29,
     "metadata": {},
     "output_type": "execute_result"
    }
   ],
   "source": [
    "api = oauth()\n",
    "api"
   ]
  },
  {
   "cell_type": "markdown",
   "id": "65b16e38",
   "metadata": {},
   "source": [
    "#####  Cargamos los parámetros de búsqueda\n",
    "\n",
    "\n",
    "- `sgo`: latitud y longitud de Santiago de Chile\n",
    "- `radio`: radio en km alrededor del punto\n",
    "- `no_of_tweets`: Cantidad de tweets para cada keyword\n",
    "- `geo`: arma el feature según lo cargado anteriormente, con la ciudad y el radio.\n",
    "- `keywords_list`: Se incluye en esta sección sólo para testear. Se limita a dos palabras. Si se comenta esa línea, usa toda la lista presentada arriba)"
   ]
  },
  {
   "cell_type": "code",
   "execution_count": 30,
   "id": "f8bad0e9",
   "metadata": {},
   "outputs": [],
   "source": [
    "sgo = '-33.4489,-70.6693'\n",
    "radio = '100km'\n",
    "page_limit =2\n",
    "geo = str(sgo) + ',' + str(radio) \n",
    "# keywords_list = ['Chile'] # Comentar esta linea para usar toda la keywords_list\n"
   ]
  },
  {
   "cell_type": "code",
   "execution_count": 31,
   "id": "3abc378e",
   "metadata": {},
   "outputs": [
    {
     "data": {
      "text/plain": [
       "'(Constituyente) OR (Convención Constituyente) OR (Convención Constitucional) OR (Asamblea Constituyente) OR (plebiscito) OR (referéndum) OR (constitución chilena) OR (Acuerdo por la paz social y la Nueva Constitución) OR (Vamos por Chile) OR (Unión Demócrata Independiente) OR (Constituyentes Apartidistas) OR (Independientes No Neutrales) OR (Lista del Pueblo) OR (Apruebo Dignidad) OR (Lista del Apruebo) OR (Pueblo Constituyente)'"
      ]
     },
     "execution_count": 31,
     "metadata": {},
     "output_type": "execute_result"
    }
   ],
   "source": [
    "keywords_list"
   ]
  },
  {
   "cell_type": "markdown",
   "id": "931f805e",
   "metadata": {},
   "source": [
    "#####  Lanzamos la búsqueda"
   ]
  },
  {
   "cell_type": "code",
   "execution_count": 32,
   "id": "aaee227c",
   "metadata": {},
   "outputs": [
    {
     "name": "stdout",
     "output_type": "stream",
     "text": [
      "<tweepy.cursor.IdIterator object at 0x7f420b654b20>\n"
     ]
    }
   ],
   "source": [
    "# df = pd.DataFrame()\n",
    "df = search(geo,\n",
    "            keywords_list,\n",
    "            page_limit)\n"
   ]
  },
  {
   "cell_type": "code",
   "execution_count": 33,
   "id": "149277ef",
   "metadata": {},
   "outputs": [
    {
     "data": {
      "text/html": [
       "<div>\n",
       "<style scoped>\n",
       "    .dataframe tbody tr th:only-of-type {\n",
       "        vertical-align: middle;\n",
       "    }\n",
       "\n",
       "    .dataframe tbody tr th {\n",
       "        vertical-align: top;\n",
       "    }\n",
       "\n",
       "    .dataframe thead th {\n",
       "        text-align: right;\n",
       "    }\n",
       "</style>\n",
       "<table border=\"1\" class=\"dataframe\">\n",
       "  <thead>\n",
       "    <tr style=\"text-align: right;\">\n",
       "      <th></th>\n",
       "      <th>Time</th>\n",
       "      <th>User</th>\n",
       "      <th>Tweet</th>\n",
       "    </tr>\n",
       "  </thead>\n",
       "  <tbody>\n",
       "    <tr>\n",
       "      <th>0</th>\n",
       "      <td>2022-08-24 18:23:41+00:00</td>\n",
       "      <td>juankvergarac</td>\n",
       "      <td>@CalderonBassi Quiero pensar bien, pero creo que es un show antes del plebiscito y luego del 4 lo van a soltar. Espero equivocarme 🫣</td>\n",
       "    </tr>\n",
       "    <tr>\n",
       "      <th>1</th>\n",
       "      <td>2022-08-24 18:23:27+00:00</td>\n",
       "      <td>Mazinger_Robot</td>\n",
       "      <td>La detención por parte del desgobierno de Boric al terrorista Héctor Llaitul no es más que un show, un mero acto de campaña: después del plebiscito, lo sueltan... \\nPor eso y mucho más, voto #Rechazo.</td>\n",
       "    </tr>\n",
       "    <tr>\n",
       "      <th>2</th>\n",
       "      <td>2022-08-24 18:23:27+00:00</td>\n",
       "      <td>kattmiel</td>\n",
       "      <td>@T13 Este gobierno jura q la gente es weona . Este narcoterrorista después del plebiscito estará libre. Tenemos el peor y más corrupto @PJudicialChile y @FiscaliadeChile #BoricNoEsMiPresidente #NoMasPicoEnElOjo #ServelCorrupto #RechazoPopular https://t.co/iqDlwsoe9H</td>\n",
       "    </tr>\n",
       "    <tr>\n",
       "      <th>3</th>\n",
       "      <td>2022-08-24 18:23:10+00:00</td>\n",
       "      <td>Mazinger_Robot</td>\n",
       "      <td>La detención por parte del desgobierno de Boric al terrorista Héctor Llaitul no es más que un mero acto de campaña: después del plebiscito, lo sueltan... \\nPor eso y mucho más, voto #Rechazo.</td>\n",
       "    </tr>\n",
       "    <tr>\n",
       "      <th>4</th>\n",
       "      <td>2022-08-24 18:22:49+00:00</td>\n",
       "      <td>Mazinger_Robot</td>\n",
       "      <td>La detención por parte del desgobierno de Boric al terrorista Héctor Llaitul no es más que un mero acto de campaña: después del plebiscito, lo sueltan...</td>\n",
       "    </tr>\n",
       "    <tr>\n",
       "      <th>5</th>\n",
       "      <td>2022-08-24 18:22:06+00:00</td>\n",
       "      <td>Cristobal__Hdz</td>\n",
       "      <td>Bien ahí, aunque sea netamente por ganar el plebiscito. A este ritmo para conquistar votos van a firmar el tpp 11, recuperar la Patagonia y por ahí capaz que anuncien un estadio para la U https://t.co/VyruLkIBcb</td>\n",
       "    </tr>\n",
       "    <tr>\n",
       "      <th>6</th>\n",
       "      <td>2022-08-24 18:22:00+00:00</td>\n",
       "      <td>latercera</td>\n",
       "      <td>🎙 Podcast - El Café Diario | El día después: ¿qué pasará el 5 de septiembre? \\nA 11 días del plebiscito, los distintos sectores políticos alistan sus cartas para el día después https://t.co/W5PUsqR3vo https://t.co/OzZTrIdgOo</td>\n",
       "    </tr>\n",
       "    <tr>\n",
       "      <th>7</th>\n",
       "      <td>2022-08-24 18:21:58+00:00</td>\n",
       "      <td>vonjuanpablo</td>\n",
       "      <td>@CaritOROIII @danieljadue show  time  pre  plebiscito</td>\n",
       "    </tr>\n",
       "    <tr>\n",
       "      <th>8</th>\n",
       "      <td>2022-08-24 18:21:54+00:00</td>\n",
       "      <td>felipe_h_1980</td>\n",
       "      <td>@biobio Raro a pocos días del plebiscito</td>\n",
       "    </tr>\n",
       "    <tr>\n",
       "      <th>9</th>\n",
       "      <td>2022-08-24 18:21:31+00:00</td>\n",
       "      <td>Dacauuu</td>\n",
       "      <td>@Cooperativa El Soros le metió grafeno al Llaitul para dejarse arrestar, es un plan orquestado por la agrupación transplanetaria narcochavista para dejar bien parado al Boris antes del plebiscito. Me cuenta David, taxista  que vota rechazo,mientras se limpia un polvo blanco del bigote.</td>\n",
       "    </tr>\n",
       "    <tr>\n",
       "      <th>10</th>\n",
       "      <td>2022-08-24 18:20:55+00:00</td>\n",
       "      <td>javier_rgua</td>\n",
       "      <td>@Chileno17039890 Justo antes del plebiscito https://t.co/5q1QsuRPSU</td>\n",
       "    </tr>\n",
       "    <tr>\n",
       "      <th>11</th>\n",
       "      <td>2022-08-24 18:20:32+00:00</td>\n",
       "      <td>Luis_sh19</td>\n",
       "      <td>Y no olvidar como los alcaldes del FA y de Apruebo Dignidad han ejecutado acciones concretas y efectivas contra la delincuencia. https://t.co/NCBshS1ze9</td>\n",
       "    </tr>\n",
       "    <tr>\n",
       "      <th>12</th>\n",
       "      <td>2022-08-24 18:20:26+00:00</td>\n",
       "      <td>LuisAlb34635216</td>\n",
       "      <td>@vladomirosevic Tendrá efecto en el plebiscito. Es lamentable que hayan quemado 120 templos religiosos, innumerables viviendas, maquinarias e instalaciones industriales durante PIÑERA 1 y PIÑERA 2 y nunca se atrevieron. Muchas felicitaciones @gabrielboric No hay encuestas pero subirán.</td>\n",
       "    </tr>\n",
       "    <tr>\n",
       "      <th>13</th>\n",
       "      <td>2022-08-24 18:20:23+00:00</td>\n",
       "      <td>elHankScorpio</td>\n",
       "      <td>@gonzalowinter Ya, y? ¿Me vai a decir que organizaciones sociales/colectivos/movimientos como Comunidad Por la Dignidad, Coordinadora 8M, etc, no tienen militantes de Partidos del Apruebo Dignidad o del PS? Los compas de izquierdas llevan haciendo la misma weá durante años, déjate de joder.</td>\n",
       "    </tr>\n",
       "    <tr>\n",
       "      <th>14</th>\n",
       "      <td>2022-08-24 18:20:18+00:00</td>\n",
       "      <td>pilarsalast</td>\n",
       "      <td>@T13 Lo esconderán por el plebiscito nada más, pan y circo #RechazoElMamarrachoComunista</td>\n",
       "    </tr>\n",
       "    <tr>\n",
       "      <th>15</th>\n",
       "      <td>2022-08-24 18:20:04+00:00</td>\n",
       "      <td>javier_rgua</td>\n",
       "      <td>@CNNChile Junto antes del plebiscito https://t.co/KcT3UTcCJp</td>\n",
       "    </tr>\n",
       "    <tr>\n",
       "      <th>16</th>\n",
       "      <td>2022-08-24 18:20:00+00:00</td>\n",
       "      <td>RadioPudahuel</td>\n",
       "      <td>#PlebiscitoDeSalida | Conoce el monto oficial que se pagará a cada vocal de mesa 💰👇\\n\\nhttps://t.co/qc86Tmx1hD</td>\n",
       "    </tr>\n",
       "    <tr>\n",
       "      <th>17</th>\n",
       "      <td>2022-08-24 18:19:48+00:00</td>\n",
       "      <td>JoFizonacero</td>\n",
       "      <td>@latercera Después del plebiscito del 4 de septiembre saldrá en libertad 🤔🗳️🔥.</td>\n",
       "    </tr>\n",
       "    <tr>\n",
       "      <th>18</th>\n",
       "      <td>2022-08-24 18:19:32+00:00</td>\n",
       "      <td>javier_rgua</td>\n",
       "      <td>@latercera Justo antes del plebiscito??! https://t.co/gReHCew7jw</td>\n",
       "    </tr>\n",
       "    <tr>\n",
       "      <th>19</th>\n",
       "      <td>2022-08-24 18:19:28+00:00</td>\n",
       "      <td>doctormoskowitz</td>\n",
       "      <td>Todos sabemos que detuvieron a Héctor Llaitul para ayudar al gobierno en el plebiscito, lamentablemente para ellos la gente que rechaza lo ve como muy poco y muy tarde y la gente que aprueba como innecesario, a si que está movida política vale callampa. https://t.co/VsesJIVu54</td>\n",
       "    </tr>\n",
       "    <tr>\n",
       "      <th>20</th>\n",
       "      <td>2022-08-24 18:19:16+00:00</td>\n",
       "      <td>AlboViejo</td>\n",
       "      <td>@ColtyUV @ChilenaMacarena @mmlagoscc ¿Cuáles serían los slogans? O me va a decir que la junta militar era un poder constituyente legitimo?? ¿O que la Comisión Ortúzar fue elegida democráticamente? ¿O que los chilenos de la época pudimos decir algo sobre esa \"constitución\"? Frei dijo algo y terminó muerto.¿qué tal?</td>\n",
       "    </tr>\n",
       "    <tr>\n",
       "      <th>21</th>\n",
       "      <td>2022-08-24 18:18:40+00:00</td>\n",
       "      <td>Sol_VidesB</td>\n",
       "      <td>Se vendrá una escala de hueveo en el sur con esto???\\nCómo incide en el plebiscito??? https://t.co/fglaA9GPxP</td>\n",
       "    </tr>\n",
       "    <tr>\n",
       "      <th>22</th>\n",
       "      <td>2022-08-24 18:18:31+00:00</td>\n",
       "      <td>javier_rgua</td>\n",
       "      <td>@Cooperativa Y Justo previo al plebiscito? https://t.co/EMuNs1x8pG</td>\n",
       "    </tr>\n",
       "    <tr>\n",
       "      <th>23</th>\n",
       "      <td>2022-08-24 18:18:29+00:00</td>\n",
       "      <td>Chris_Meyer_T</td>\n",
       "      <td>Justo Justo antes del plebiscito capturan a Héctor Llaintul, SOSPECHOZA LA WEA!</td>\n",
       "    </tr>\n",
       "    <tr>\n",
       "      <th>24</th>\n",
       "      <td>2022-08-24 18:17:50+00:00</td>\n",
       "      <td>javier_rgua</td>\n",
       "      <td>@thecliniccl Y Justo previo al plebiscito???? https://t.co/Upa2xZoZwS</td>\n",
       "    </tr>\n",
       "    <tr>\n",
       "      <th>25</th>\n",
       "      <td>2022-08-24 18:17:46+00:00</td>\n",
       "      <td>katurra_65</td>\n",
       "      <td>@NiltoEly Nnnaaaaaa... Puro humo      justo justo a dos semanas del Plebiscito ..... Estos creen que uno es weon</td>\n",
       "    </tr>\n",
       "    <tr>\n",
       "      <th>26</th>\n",
       "      <td>2022-08-24 18:17:41+00:00</td>\n",
       "      <td>AmantesMaipo</td>\n",
       "      <td>Muchos trabajadores, seguirán trabajando 10, 12, horas con sueldos precarios\\n#40Horas es una ilusión, ad portas del plebiscito de salida. Además, será \"escalonado\"... algo así, como (-)12 minutos diarios, por día trabajado, a partir de no sé cuándo, ni me importa...</td>\n",
       "    </tr>\n",
       "    <tr>\n",
       "      <th>27</th>\n",
       "      <td>2022-08-24 18:17:29+00:00</td>\n",
       "      <td>totoguzman</td>\n",
       "      <td>Por orden de la Fiscalía, la PDI detuvo al líder de la CAM Héctor Llaitur. Espero que el Fiscal Nacional Jorge Abbott, haga lo mismo con él empresario Pedro Cool, quién se manifestó de balear a los  partidarios del Apruebo, si es que llegarán a ganar en el Plebiscito de Salida.-</td>\n",
       "    </tr>\n",
       "    <tr>\n",
       "      <th>28</th>\n",
       "      <td>2022-08-24 18:17:28+00:00</td>\n",
       "      <td>JCHSacaan</td>\n",
       "      <td>-Aló Don Héctor llaitul\\n-qué querí guatón ql\\n-entregue 2 semanas antes del plebiscito que estamos armando el último tongo y después la araucanía será toda suya.\\n-bueno guatón culiao déjame almorzar antes siiii.\\n#hectorllaitul #tongo https://t.co/4Ql9pAOOpA</td>\n",
       "    </tr>\n",
       "    <tr>\n",
       "      <th>29</th>\n",
       "      <td>2022-08-24 18:17:23+00:00</td>\n",
       "      <td>mellapolanco</td>\n",
       "      <td>Detención de Héctor Llaitul en #Cañete x orden de Fiscalía. Cuánto tensionará la interna de Apruebo Dignidad detención del líder de la #CAM? #Chile #Araucania #Llaitul https://t.co/9xVjoIxIU2</td>\n",
       "    </tr>\n",
       "  </tbody>\n",
       "</table>\n",
       "</div>"
      ],
      "text/plain": [
       "                        Time             User  \\\n",
       "0  2022-08-24 18:23:41+00:00    juankvergarac   \n",
       "1  2022-08-24 18:23:27+00:00   Mazinger_Robot   \n",
       "2  2022-08-24 18:23:27+00:00         kattmiel   \n",
       "3  2022-08-24 18:23:10+00:00   Mazinger_Robot   \n",
       "4  2022-08-24 18:22:49+00:00   Mazinger_Robot   \n",
       "5  2022-08-24 18:22:06+00:00   Cristobal__Hdz   \n",
       "6  2022-08-24 18:22:00+00:00        latercera   \n",
       "7  2022-08-24 18:21:58+00:00     vonjuanpablo   \n",
       "8  2022-08-24 18:21:54+00:00    felipe_h_1980   \n",
       "9  2022-08-24 18:21:31+00:00          Dacauuu   \n",
       "10 2022-08-24 18:20:55+00:00      javier_rgua   \n",
       "11 2022-08-24 18:20:32+00:00        Luis_sh19   \n",
       "12 2022-08-24 18:20:26+00:00  LuisAlb34635216   \n",
       "13 2022-08-24 18:20:23+00:00    elHankScorpio   \n",
       "14 2022-08-24 18:20:18+00:00      pilarsalast   \n",
       "15 2022-08-24 18:20:04+00:00      javier_rgua   \n",
       "16 2022-08-24 18:20:00+00:00    RadioPudahuel   \n",
       "17 2022-08-24 18:19:48+00:00     JoFizonacero   \n",
       "18 2022-08-24 18:19:32+00:00      javier_rgua   \n",
       "19 2022-08-24 18:19:28+00:00  doctormoskowitz   \n",
       "20 2022-08-24 18:19:16+00:00        AlboViejo   \n",
       "21 2022-08-24 18:18:40+00:00       Sol_VidesB   \n",
       "22 2022-08-24 18:18:31+00:00      javier_rgua   \n",
       "23 2022-08-24 18:18:29+00:00    Chris_Meyer_T   \n",
       "24 2022-08-24 18:17:50+00:00      javier_rgua   \n",
       "25 2022-08-24 18:17:46+00:00       katurra_65   \n",
       "26 2022-08-24 18:17:41+00:00     AmantesMaipo   \n",
       "27 2022-08-24 18:17:29+00:00       totoguzman   \n",
       "28 2022-08-24 18:17:28+00:00        JCHSacaan   \n",
       "29 2022-08-24 18:17:23+00:00     mellapolanco   \n",
       "\n",
       "                                                                                                                                                                                                                                                                                                                          Tweet  \n",
       "0                                                                                                                                                                                          @CalderonBassi Quiero pensar bien, pero creo que es un show antes del plebiscito y luego del 4 lo van a soltar. Espero equivocarme 🫣  \n",
       "1                                                                                                                      La detención por parte del desgobierno de Boric al terrorista Héctor Llaitul no es más que un show, un mero acto de campaña: después del plebiscito, lo sueltan... \\nPor eso y mucho más, voto #Rechazo.  \n",
       "2                                                    @T13 Este gobierno jura q la gente es weona . Este narcoterrorista después del plebiscito estará libre. Tenemos el peor y más corrupto @PJudicialChile y @FiscaliadeChile #BoricNoEsMiPresidente #NoMasPicoEnElOjo #ServelCorrupto #RechazoPopular https://t.co/iqDlwsoe9H  \n",
       "3                                                                                                                               La detención por parte del desgobierno de Boric al terrorista Héctor Llaitul no es más que un mero acto de campaña: después del plebiscito, lo sueltan... \\nPor eso y mucho más, voto #Rechazo.  \n",
       "4                                                                                                                                                                     La detención por parte del desgobierno de Boric al terrorista Héctor Llaitul no es más que un mero acto de campaña: después del plebiscito, lo sueltan...  \n",
       "5                                                                                                           Bien ahí, aunque sea netamente por ganar el plebiscito. A este ritmo para conquistar votos van a firmar el tpp 11, recuperar la Patagonia y por ahí capaz que anuncien un estadio para la U https://t.co/VyruLkIBcb  \n",
       "6                                                                                              🎙 Podcast - El Café Diario | El día después: ¿qué pasará el 5 de septiembre? \\nA 11 días del plebiscito, los distintos sectores políticos alistan sus cartas para el día después https://t.co/W5PUsqR3vo https://t.co/OzZTrIdgOo  \n",
       "7                                                                                                                                                                                                                                                                         @CaritOROIII @danieljadue show  time  pre  plebiscito  \n",
       "8                                                                                                                                                                                                                                                                                      @biobio Raro a pocos días del plebiscito  \n",
       "9                                @Cooperativa El Soros le metió grafeno al Llaitul para dejarse arrestar, es un plan orquestado por la agrupación transplanetaria narcochavista para dejar bien parado al Boris antes del plebiscito. Me cuenta David, taxista  que vota rechazo,mientras se limpia un polvo blanco del bigote.  \n",
       "10                                                                                                                                                                                                                                                          @Chileno17039890 Justo antes del plebiscito https://t.co/5q1QsuRPSU  \n",
       "11                                                                                                                                                                     Y no olvidar como los alcaldes del FA y de Apruebo Dignidad han ejecutado acciones concretas y efectivas contra la delincuencia. https://t.co/NCBshS1ze9  \n",
       "12                               @vladomirosevic Tendrá efecto en el plebiscito. Es lamentable que hayan quemado 120 templos religiosos, innumerables viviendas, maquinarias e instalaciones industriales durante PIÑERA 1 y PIÑERA 2 y nunca se atrevieron. Muchas felicitaciones @gabrielboric No hay encuestas pero subirán.  \n",
       "13                          @gonzalowinter Ya, y? ¿Me vai a decir que organizaciones sociales/colectivos/movimientos como Comunidad Por la Dignidad, Coordinadora 8M, etc, no tienen militantes de Partidos del Apruebo Dignidad o del PS? Los compas de izquierdas llevan haciendo la misma weá durante años, déjate de joder.  \n",
       "14                                                                                                                                                                                                                                     @T13 Lo esconderán por el plebiscito nada más, pan y circo #RechazoElMamarrachoComunista  \n",
       "15                                                                                                                                                                                                                                                                 @CNNChile Junto antes del plebiscito https://t.co/KcT3UTcCJp  \n",
       "16                                                                                                                                                                                                               #PlebiscitoDeSalida | Conoce el monto oficial que se pagará a cada vocal de mesa 💰👇\\n\\nhttps://t.co/qc86Tmx1hD  \n",
       "17                                                                                                                                                                                                                                               @latercera Después del plebiscito del 4 de septiembre saldrá en libertad 🤔🗳️🔥.  \n",
       "18                                                                                                                                                                                                                                                             @latercera Justo antes del plebiscito??! https://t.co/gReHCew7jw  \n",
       "19                                        Todos sabemos que detuvieron a Héctor Llaitul para ayudar al gobierno en el plebiscito, lamentablemente para ellos la gente que rechaza lo ve como muy poco y muy tarde y la gente que aprueba como innecesario, a si que está movida política vale callampa. https://t.co/VsesJIVu54  \n",
       "20  @ColtyUV @ChilenaMacarena @mmlagoscc ¿Cuáles serían los slogans? O me va a decir que la junta militar era un poder constituyente legitimo?? ¿O que la Comisión Ortúzar fue elegida democráticamente? ¿O que los chilenos de la época pudimos decir algo sobre esa \"constitución\"? Frei dijo algo y terminó muerto.¿qué tal?  \n",
       "21                                                                                                                                                                                                                Se vendrá una escala de hueveo en el sur con esto???\\nCómo incide en el plebiscito??? https://t.co/fglaA9GPxP  \n",
       "22                                                                                                                                                                                                                                                           @Cooperativa Y Justo previo al plebiscito? https://t.co/EMuNs1x8pG  \n",
       "23                                                                                                                                                                                                                                              Justo Justo antes del plebiscito capturan a Héctor Llaintul, SOSPECHOZA LA WEA!  \n",
       "24                                                                                                                                                                                                                                                        @thecliniccl Y Justo previo al plebiscito???? https://t.co/Upa2xZoZwS  \n",
       "25                                                                                                                                                                                                             @NiltoEly Nnnaaaaaa... Puro humo      justo justo a dos semanas del Plebiscito ..... Estos creen que uno es weon  \n",
       "26                                                  Muchos trabajadores, seguirán trabajando 10, 12, horas con sueldos precarios\\n#40Horas es una ilusión, ad portas del plebiscito de salida. Además, será \"escalonado\"... algo así, como (-)12 minutos diarios, por día trabajado, a partir de no sé cuándo, ni me importa...  \n",
       "27                                      Por orden de la Fiscalía, la PDI detuvo al líder de la CAM Héctor Llaitur. Espero que el Fiscal Nacional Jorge Abbott, haga lo mismo con él empresario Pedro Cool, quién se manifestó de balear a los  partidarios del Apruebo, si es que llegarán a ganar en el Plebiscito de Salida.-  \n",
       "28                                                         -Aló Don Héctor llaitul\\n-qué querí guatón ql\\n-entregue 2 semanas antes del plebiscito que estamos armando el último tongo y después la araucanía será toda suya.\\n-bueno guatón culiao déjame almorzar antes siiii.\\n#hectorllaitul #tongo https://t.co/4Ql9pAOOpA  \n",
       "29                                                                                                                              Detención de Héctor Llaitul en #Cañete x orden de Fiscalía. Cuánto tensionará la interna de Apruebo Dignidad detención del líder de la #CAM? #Chile #Araucania #Llaitul https://t.co/9xVjoIxIU2  "
      ]
     },
     "execution_count": 33,
     "metadata": {},
     "output_type": "execute_result"
    }
   ],
   "source": [
    "pd.set_option('display.max_colwidth', None)\n",
    "df"
   ]
  },
  {
   "cell_type": "markdown",
   "id": "c330b9c0",
   "metadata": {},
   "source": [
    "#####  Guardamos el dF"
   ]
  },
  {
   "cell_type": "code",
   "execution_count": 39,
   "id": "6660a65e",
   "metadata": {},
   "outputs": [],
   "source": [
    "save_func(df, 'csv')"
   ]
  },
  {
   "cell_type": "code",
   "execution_count": 40,
   "id": "6863803a",
   "metadata": {},
   "outputs": [],
   "source": [
    "save_func(df, 'xlsx')"
   ]
  },
  {
   "cell_type": "code",
   "execution_count": null,
   "id": "37469ee6",
   "metadata": {},
   "outputs": [],
   "source": []
  }
 ],
 "metadata": {
  "hide_input": false,
  "kernelspec": {
   "display_name": "Python 3 (ipykernel)",
   "language": "python",
   "name": "python3"
  },
  "language_info": {
   "codemirror_mode": {
    "name": "ipython",
    "version": 3
   },
   "file_extension": ".py",
   "mimetype": "text/x-python",
   "name": "python",
   "nbconvert_exporter": "python",
   "pygments_lexer": "ipython3",
   "version": "3.10.4"
  }
 },
 "nbformat": 4,
 "nbformat_minor": 5
}
