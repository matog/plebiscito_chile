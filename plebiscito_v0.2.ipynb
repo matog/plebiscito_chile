{
 "cells": [
  {
   "cell_type": "code",
   "execution_count": 1,
   "id": "8bd7a4d1",
   "metadata": {},
   "outputs": [
    {
     "data": {
      "text/plain": [
       "True"
      ]
     },
     "execution_count": 1,
     "metadata": {},
     "output_type": "execute_result"
    }
   ],
   "source": [
    "import tweepy\n",
    "import json\n",
    "import pandas as pd\n",
    "import random\n",
    "from dotenv import load_dotenv\n",
    "import os\n",
    "import time\n",
    "from datetime import datetime\n",
    "load_dotenv()"
   ]
  },
  {
   "cell_type": "markdown",
   "id": "cc426b7a",
   "metadata": {},
   "source": [
    "# Sentiment analysis de tweets respecto al plebiscito en Septiembre 2022 Chile\n",
    "\n",
    "Este script busca en tweeter, con la los privilegios de la cuenta develop gratuita, los tweets según las palabras clave, la localización y las fechas determinadas.\n",
    "\n",
    "La información mas importante de cada tweet es guardado en un dataframe.\n",
    "\n",
    "La API libre de twitter tiene varias limitaciones, entre ella la fecha:\n",
    "\n",
    "    Keep in mind that the search index has a 7-day limit. In other words, no tweets will be found for a date older than one week.\n",
    "    \n",
    "No se puede traer tweets mas antiguos que una semana. Ademas del peso sobre la cantidad de tweets, que cuelga la API por 15 minutos"
   ]
  },
  {
   "cell_type": "markdown",
   "id": "13f28a49",
   "metadata": {},
   "source": [
    "##### Definición de palabras clave (_keywords_) a buscar dentro del texto de los tweets:"
   ]
  },
  {
   "cell_type": "code",
   "execution_count": 39,
   "id": "215719a4",
   "metadata": {},
   "outputs": [],
   "source": [
    "keywords_list = ['Constituyente',\n",
    "'Convención Constituyente',\n",
    "'Convención Constitucional',\n",
    "'Asamblea Constituyente',\n",
    "'plebiscito',\n",
    "'referéndum',\n",
    "'constitución chilena',\n",
    "'Acuerdo por la paz social y la Nueva Constitución',\n",
    "'Vamos por Chile',\n",
    "'Unión Demócrata Independiente',\n",
    "'Constituyentes Apartidistas',\n",
    "'Independientes No Neutrales',\n",
    "'Lista del Pueblo',\n",
    "'Apruebo Dignidad',\n",
    "'Lista del Apruebo',\n",
    "'Pueblo Constituyente']\n",
    "\n",
    "keywords_list_II = ['Chile Digno',\n",
    "'Chile Unido',\n",
    "'Unidos por Chile'\n",
    "'Chile Libre',\n",
    "'Coordinadora Constituyente Plurinacional y Popular',\n",
    "'Somos región',\n",
    "'Colectivo Socialista',\n",
    "'Independientes por una Nueva Constitución',\n",
    "'Movimientos sociales constituyentes',\n",
    "'Colectivo del Apruebo',\n",
    "'Wallmapur',\n",
    "'Elisa Loncón',\n",
    "'Campaña de desprestigio',\n",
    "'rechazo del prebiscito de 2020',\n",
    "'Carmen Gloria Valladares Moyano',\n",
    "'Elisa Loncon',\n",
    "'Destitucion de Elisa Loncon']"
   ]
  },
  {
   "cell_type": "code",
   "execution_count": 40,
   "id": "8473d54b",
   "metadata": {},
   "outputs": [],
   "source": [
    "keywords_list = [\"(\" + word + \")\" for word in keywords_list]"
   ]
  },
  {
   "cell_type": "markdown",
   "id": "7e55ba0a",
   "metadata": {},
   "source": [
    "'#DestitucionDeElisaLoncon',\n",
    "'juicio político',\n",
    "'Jaime Bassa',\n",
    "'Marcela Cubillos',\n",
    "'Jaime Mañalich',\n",
    "'Autodesprestigio',\n",
    "'María Elisa Quinteros Cáceres',\n",
    "'Gaspar Dominguez Donoso']"
   ]
  },
  {
   "cell_type": "code",
   "execution_count": 41,
   "id": "25be32d1",
   "metadata": {},
   "outputs": [],
   "source": [
    "keywords_list  = ' OR '.join(keywords_list)"
   ]
  },
  {
   "cell_type": "code",
   "execution_count": 42,
   "id": "457ac2cd",
   "metadata": {},
   "outputs": [
    {
     "data": {
      "text/plain": [
       "'(Constituyente) OR (Convención Constituyente) OR (Convención Constitucional) OR (Asamblea Constituyente) OR (plebiscito) OR (referéndum) OR (constitución chilena) OR (Acuerdo por la paz social y la Nueva Constitución) OR (Vamos por Chile) OR (Unión Demócrata Independiente) OR (Constituyentes Apartidistas) OR (Independientes No Neutrales) OR (Lista del Pueblo) OR (Apruebo Dignidad) OR (Lista del Apruebo) OR (Pueblo Constituyente)'"
      ]
     },
     "execution_count": 42,
     "metadata": {},
     "output_type": "execute_result"
    }
   ],
   "source": [
    "keywords_list"
   ]
  },
  {
   "cell_type": "markdown",
   "id": "27ce9154",
   "metadata": {},
   "source": [
    "#### Funciones\n",
    "El script tiene dos funciones principales:\n",
    "- Activación de la API con las credenciales\n",
    "- Búsqueda de los tweets con lo parámetros definidos"
   ]
  },
  {
   "cell_type": "markdown",
   "id": "2d7650e0",
   "metadata": {},
   "source": [
    "##### Función Activación"
   ]
  },
  {
   "cell_type": "code",
   "execution_count": 154,
   "id": "59f6b2fd",
   "metadata": {},
   "outputs": [],
   "source": [
    "# Función de generación de la API\n",
    "def oauth():\n",
    "    #Pass in our twitter API authentication key\n",
    "    consumer_key = os.getenv('CONSUMER_KEY')\n",
    "    consumer_secret = os.getenv('CONSUMER_SECRET')\n",
    "    access_token = os.getenv('ACCESS_TOKEN')\n",
    "    access_token_secret = os.getenv('ACCESS_TOKEN_SECRET')\n",
    "    auth = tweepy.OAuth1UserHandler(\n",
    "        consumer_key, consumer_secret,\n",
    "        access_token, access_token_secret\n",
    "    )\n",
    "#     Instantiate the tweepy API\n",
    "    api = tweepy.API(auth, wait_on_rate_limit=True)\n",
    "    return api"
   ]
  },
  {
   "cell_type": "markdown",
   "id": "7766fdee",
   "metadata": {},
   "source": [
    "##### Función Búsqueda"
   ]
  },
  {
   "cell_type": "code",
   "execution_count": 181,
   "id": "e44e83c4",
   "metadata": {},
   "outputs": [],
   "source": [
    "# Función de búsqueda de tweets según los keywords, cantidad y localización\n",
    "def search(geo, search_query, page_limit):\n",
    "    page_no = 1\n",
    "    # Creamos las columnas para el DataFrame\n",
    "    data = []\n",
    "    dict = {}\n",
    "    page_no = 1\n",
    "\n",
    "    df = pd.DataFrame()\n",
    "    columns = ['Time','User', 'Tweet']\n",
    "    try:\n",
    "        # Lanzamos la búsqueda\n",
    "        pages = tweepy.Cursor(api.search_tweets,\n",
    "                              q=search_query, \n",
    "                              tweet_mode='extended', \n",
    "                              geocode = geo).pages(page_limit)\n",
    "        print(pages)\n",
    "    # Iterate through the pages and print the text of the tweets\n",
    "        for page in pages:    \n",
    "            for i in range(len(page)):\n",
    "                data.append([page[i].created_at, page[i].user.screen_name, page[i].full_text])\n",
    "            page_no += 1\n",
    "        df = pd.DataFrame(data, columns=columns)\n",
    "        df['Time'] = df['Time'].dt.tz_localize(None) # Excel no soporta Datatime con zonas\n",
    "        return df\n",
    "    \n",
    "    except BaseException as e:\n",
    "        print('Status Failed On,',str(e))\n",
    "        return"
   ]
  },
  {
   "cell_type": "markdown",
   "id": "76f103c1",
   "metadata": {},
   "source": [
    "#### Ejecución "
   ]
  },
  {
   "cell_type": "markdown",
   "id": "7e7f09a3",
   "metadata": {},
   "source": [
    "##### Instanciamos la API"
   ]
  },
  {
   "cell_type": "code",
   "execution_count": 165,
   "id": "9bc38800",
   "metadata": {},
   "outputs": [
    {
     "data": {
      "text/plain": [
       "<tweepy.api.API at 0x7fda33c02cb0>"
      ]
     },
     "execution_count": 165,
     "metadata": {},
     "output_type": "execute_result"
    }
   ],
   "source": [
    "api = oauth()\n",
    "api"
   ]
  },
  {
   "cell_type": "markdown",
   "id": "65b16e38",
   "metadata": {},
   "source": [
    "#####  Cargamos los parámetros de búsqueda\n",
    "\n",
    "\n",
    "- `sgo`: latitud y longitud de Santiago de Chile\n",
    "- `radio`: radio en km alrededor del punto\n",
    "- `no_of_tweets`: Cantidad de tweets para cada keyword\n",
    "- `geo`: arma el feature según lo cargado anteriormente, con la ciudad y el radio.\n",
    "- `keywords_list`: Se incluye en esta sección sólo para testear. Se limita a dos palabras. Si se comenta esa línea, usa toda la lista presentada arriba)"
   ]
  },
  {
   "cell_type": "code",
   "execution_count": 166,
   "id": "f8bad0e9",
   "metadata": {},
   "outputs": [],
   "source": [
    "sgo = '-33.4489,-70.6693'\n",
    "radio = '100km'\n",
    "page_limit =2\n",
    "geo = str(sgo) + ',' + str(radio) \n",
    "# keywords_list = ['Chile'] # Comentar esta linea para usar toda la keywords_list\n"
   ]
  },
  {
   "cell_type": "code",
   "execution_count": 167,
   "id": "9167ae35",
   "metadata": {},
   "outputs": [
    {
     "data": {
      "text/plain": [
       "'(Constituyente) OR (Convención Constituyente) OR (Convención Constitucional) OR (Asamblea Constituyente) OR (plebiscito) OR (referéndum) OR (constitución chilena) OR (Acuerdo por la paz social y la Nueva Constitución) OR (Vamos por Chile) OR (Unión Demócrata Independiente) OR (Constituyentes Apartidistas) OR (Independientes No Neutrales) OR (Lista del Pueblo) OR (Apruebo Dignidad) OR (Lista del Apruebo) OR (Pueblo Constituyente)'"
      ]
     },
     "execution_count": 167,
     "metadata": {},
     "output_type": "execute_result"
    }
   ],
   "source": [
    "keywords_list"
   ]
  },
  {
   "cell_type": "markdown",
   "id": "931f805e",
   "metadata": {},
   "source": [
    "#####  Lanzamos la búsqueda"
   ]
  },
  {
   "cell_type": "code",
   "execution_count": 168,
   "id": "aaee227c",
   "metadata": {},
   "outputs": [
    {
     "name": "stdout",
     "output_type": "stream",
     "text": [
      "<tweepy.cursor.IdIterator object at 0x7fda33c03ca0>\n"
     ]
    }
   ],
   "source": [
    "# df = pd.DataFrame()\n",
    "df = search(geo,\n",
    "            keywords_list,\n",
    "            page_limit)\n"
   ]
  },
  {
   "cell_type": "code",
   "execution_count": 163,
   "id": "149277ef",
   "metadata": {},
   "outputs": [
    {
     "data": {
      "text/html": [
       "<div>\n",
       "<style scoped>\n",
       "    .dataframe tbody tr th:only-of-type {\n",
       "        vertical-align: middle;\n",
       "    }\n",
       "\n",
       "    .dataframe tbody tr th {\n",
       "        vertical-align: top;\n",
       "    }\n",
       "\n",
       "    .dataframe thead th {\n",
       "        text-align: right;\n",
       "    }\n",
       "</style>\n",
       "<table border=\"1\" class=\"dataframe\">\n",
       "  <thead>\n",
       "    <tr style=\"text-align: right;\">\n",
       "      <th></th>\n",
       "      <th>Time</th>\n",
       "      <th>User</th>\n",
       "      <th>Tweet</th>\n",
       "    </tr>\n",
       "  </thead>\n",
       "  <tbody>\n",
       "    <tr>\n",
       "      <th>0</th>\n",
       "      <td>2022-08-24 18:04:07+00:00</td>\n",
       "      <td>chilesust</td>\n",
       "      <td>¡CONSTITUCIÓN! Gran día. la primera #ConstituciónEcológica de la Historia de #Chile y la primera #paritaria. Les invitamos a ser parte de la historia. Con esta Carta Magna tendremos muchas posibilidades de seguir creciendo hacia un futuro más sustentable para nuestrxs hijxs. https://t.co/F6IfYrijjp</td>\n",
       "    </tr>\n",
       "    <tr>\n",
       "      <th>1</th>\n",
       "      <td>2022-08-24 18:04:04+00:00</td>\n",
       "      <td>soldadito1951</td>\n",
       "      <td>Pero en Chile siguen subiendo !! https://t.co/UKSKuSFkUf</td>\n",
       "    </tr>\n",
       "    <tr>\n",
       "      <th>2</th>\n",
       "      <td>2022-08-24 18:03:58+00:00</td>\n",
       "      <td>InfinitaFM</td>\n",
       "      <td>#Encuesta | Ante el gran rendimiento de Darío Osorio de la Universidad de Chile, en #SalimosJugandoEnCancha queremos saber:\\n\\n¿Cuál es el mejor escenario para Osorio al corto plazo?\\n\\nEscucha a @DiegoSanchezJ, @HugoMarcone, @gonzalofullu y @PatricioErland en https://t.co/r7wN21hZUP</td>\n",
       "    </tr>\n",
       "    <tr>\n",
       "      <th>3</th>\n",
       "      <td>2022-08-24 18:03:57+00:00</td>\n",
       "      <td>PDI_CHILE</td>\n",
       "      <td>[Ahora] En la Región del Biobío, PDI detuvo a Héctor Llaitul en virtud a orden judicial. En desarrollo.</td>\n",
       "    </tr>\n",
       "    <tr>\n",
       "      <th>4</th>\n",
       "      <td>2022-08-24 18:03:55+00:00</td>\n",
       "      <td>ChileanLeech</td>\n",
       "      <td>#Chile #Comunismo #comunistas #ComunismoEsMiseria #Nazbol https://t.co/fAAXv0pJAj</td>\n",
       "    </tr>\n",
       "    <tr>\n",
       "      <th>5</th>\n",
       "      <td>2022-08-24 18:03:46+00:00</td>\n",
       "      <td>AnibalMirandaRu</td>\n",
       "      <td>🖥💾📡🔌💡TECNO EN #COOPERATIVA 🇨🇱 #tecnologia #chile #cooperativa En Alemania debuta el primer tren de pasajeros con hidrógeno: https://t.co/Hye6i5Nrtd via @Cooperativa</td>\n",
       "    </tr>\n",
       "    <tr>\n",
       "      <th>6</th>\n",
       "      <td>2022-08-24 18:03:13+00:00</td>\n",
       "      <td>sebaalisboaf</td>\n",
       "      <td>@mvacarezza cuando vuelvas a vivir a Chile</td>\n",
       "    </tr>\n",
       "    <tr>\n",
       "      <th>7</th>\n",
       "      <td>2022-08-24 18:03:06+00:00</td>\n",
       "      <td>mellapolanco</td>\n",
       "      <td>Detienen a Héctor Llaitul en #Cañete. #Llaitul #Chile #Cam #Araucania https://t.co/sHV75sP7KV</td>\n",
       "    </tr>\n",
       "    <tr>\n",
       "      <th>8</th>\n",
       "      <td>2022-08-24 18:02:28+00:00</td>\n",
       "      <td>Bullamaniatic0s</td>\n",
       "      <td>¿Llegará al Clásico Universitario contra la UC? Luis Casanova volvió a jugar en la U tras dura lesión https://t.co/uTNtKX1PD7 https://t.co/gtOyvzSiY1</td>\n",
       "    </tr>\n",
       "    <tr>\n",
       "      <th>9</th>\n",
       "      <td>2022-08-24 18:02:17+00:00</td>\n",
       "      <td>janecarvajal</td>\n",
       "      <td>@MarcelaAninat Yo lo veo en CNN Chile</td>\n",
       "    </tr>\n",
       "    <tr>\n",
       "      <th>10</th>\n",
       "      <td>2022-08-24 18:02:15+00:00</td>\n",
       "      <td>RicardoCappele7</td>\n",
       "      <td>Crimen organizado desatado,cuando en Chile agoniza un #GobiernoTerminado.BORIC NO ejerce el Principio De Autoridad, no manda!.. OCLOCRACIA de #TEILLERYELPARTIDOCOMUNISTA NOS  lleva a una #DictaduraMarxista ,con CONTROL SOCIAL de los medios 📺 24/7\\n#RechazoLaDestruccionDeChile https://t.co/QT3eVtIqAE</td>\n",
       "    </tr>\n",
       "    <tr>\n",
       "      <th>11</th>\n",
       "      <td>2022-08-24 18:02:03+00:00</td>\n",
       "      <td>brucejavi3</td>\n",
       "      <td>@Amarillos_Chile https://t.co/Y0CrKXdBi3</td>\n",
       "    </tr>\n",
       "    <tr>\n",
       "      <th>12</th>\n",
       "      <td>2022-08-24 18:02:00+00:00</td>\n",
       "      <td>uchile</td>\n",
       "      <td>U. de Chile abre las postulaciones al Premio Azul Comunidad para proyectos triestamentales. Tienes plazo hasta el 29 de septiembre. Más detalles, como las bases, dónde postular y más en: https://t.co/EUn5aCHs1y https://t.co/UWNdsl4eG0</td>\n",
       "    </tr>\n",
       "    <tr>\n",
       "      <th>13</th>\n",
       "      <td>2022-08-24 18:01:51+00:00</td>\n",
       "      <td>Valerie4040</td>\n",
       "      <td>@MiDerechoEducar @Mineduc @IngridRojasSilv @bohn_ingrid @dr_pegarcia @CONACEP_Chile @confepachile @Sonjitarockstar @0324Marta @FridaSiKahlo @PanchoFritis @jtgazmuri \"Discriminar\" una palabra muy usada, temida y odiada, pero que muchas veces y en positivo, ayuda a mucha gente...hoy muchos padres de alumnos que necesitan ser discriminados para poder obtener un tratamiento especial se ven vulnerados en la NC...como prueba un botón...</td>\n",
       "    </tr>\n",
       "    <tr>\n",
       "      <th>14</th>\n",
       "      <td>2022-08-24 18:01:34+00:00</td>\n",
       "      <td>Claudio_eea</td>\n",
       "      <td>@gabrielboric Que tiene que ver un chile más justo e inclusivo con bajarlas horas laborales. Preocupese de la delincuencia, narcotráfico, ingreso de ilegales, Región de la la Araucania, Bio Bio y Los Ríos</td>\n",
       "    </tr>\n",
       "    <tr>\n",
       "      <th>15</th>\n",
       "      <td>2022-08-24 18:01:33+00:00</td>\n",
       "      <td>Peart_Neal</td>\n",
       "      <td>@HuracanRodrigui Menos mal que Chile no se prestó para el juego 😜 https://t.co/2uosbnEYWo</td>\n",
       "    </tr>\n",
       "    <tr>\n",
       "      <th>16</th>\n",
       "      <td>2022-08-24 18:01:24+00:00</td>\n",
       "      <td>Estrategiacl</td>\n",
       "      <td>Criar en la abundancia https://t.co/LW1Y5vm7XM\\n#Chile</td>\n",
       "    </tr>\n",
       "    <tr>\n",
       "      <th>17</th>\n",
       "      <td>2022-08-24 18:01:15+00:00</td>\n",
       "      <td>eduardoaguiles</td>\n",
       "      <td>@loreto875433 @simonni17 @latercera Último minuto; detenido el terrorista Héctor Llaitul. Noticia en desarrollo. Viva Chile. https://t.co/2UsWuX1yTB</td>\n",
       "    </tr>\n",
       "    <tr>\n",
       "      <th>18</th>\n",
       "      <td>2022-08-24 18:00:49+00:00</td>\n",
       "      <td>apuntesyviajes</td>\n",
       "      <td>👉🏼 Cómo llegar al Paseo 21 de Mayo desde la Aduana 🥾\\nhttps://t.co/6ayO5QLfKx #ApuntesyViajes 🧳🌎 #GuíasValparaíso #Chile 🚎🇨🇱 https://t.co/Kt0uLK5lqR</td>\n",
       "    </tr>\n",
       "    <tr>\n",
       "      <th>19</th>\n",
       "      <td>2022-08-24 18:00:45+00:00</td>\n",
       "      <td>lasinfonica</td>\n",
       "      <td>𝐂𝐨𝐧𝐜𝐢𝐞𝐫𝐭𝐨: 𝐏𝐥𝐚𝐳𝐚 / 𝐑𝐢𝐦𝐬𝐤𝐲-𝐊𝐨𝐫𝐬𝐚𝐤𝐨𝐯\\n@lasinfonica\\nTeatro @uchile\\nSábado 27 de agosto, 17:00 horas.\\nDirector: Rodolfo Saglimbeni\\nEntradas en \\nhttps://t.co/IiLM0zktKY y boletería del Teatro \\n\\nDescuentos para est., a. mayores y funcionarios U. de Chile https://t.co/ZXyE4dFFqy</td>\n",
       "    </tr>\n",
       "    <tr>\n",
       "      <th>20</th>\n",
       "      <td>2022-08-24 18:00:42+00:00</td>\n",
       "      <td>ChileTodayNews</td>\n",
       "      <td>The government is already planning ahead in case Rechazo wins the Sept. 4 plebiscite. Many have proposed a vote for yet another Constitutional Convention or referendum. Chile's Electoral Service (Servel) President Andrés Tagle clarified that 125 days must pass before another vote https://t.co/oueOI0x6Y4</td>\n",
       "    </tr>\n",
       "    <tr>\n",
       "      <th>21</th>\n",
       "      <td>2022-08-24 18:00:29+00:00</td>\n",
       "      <td>LiliZunigaM</td>\n",
       "      <td>El 4 de Septiembre voto #Apruebo nuestra Nueva Constitución. \\nEl 4 de Septiembre voto #Apruebo por un Chile para todos. https://t.co/ZwelYzluKv</td>\n",
       "    </tr>\n",
       "    <tr>\n",
       "      <th>22</th>\n",
       "      <td>2022-08-24 18:00:23+00:00</td>\n",
       "      <td>JMGallo99</td>\n",
       "      <td>VIVA CHILE Y EL GLORIOSO GOBIERNO DEL PRESIDENTE BORIĆ https://t.co/0LGu0FBDoA https://t.co/olBo0oKR6T</td>\n",
       "    </tr>\n",
       "    <tr>\n",
       "      <th>23</th>\n",
       "      <td>2022-08-24 18:00:19+00:00</td>\n",
       "      <td>harayasanhueza</td>\n",
       "      <td>@Danita35Q Jajajaja en Uno llamado Chile, donde salió presidente un payaso en Marzo 2022</td>\n",
       "    </tr>\n",
       "    <tr>\n",
       "      <th>24</th>\n",
       "      <td>2022-08-24 18:00:05+00:00</td>\n",
       "      <td>FAOCapacitacion</td>\n",
       "      <td>🎓 Capacitación en #Biodiversidad y #Conservación en Chile 🇨🇱\\n\\n🤝 Integró los proyectos @theGEF Red #SIPAN y Especies amenazadas \\n\\n✅ Más 600 matriculados \\n✅ 45 planes piloto \\n\\nUn esfuerzo de @FAOChile @MinagriCL @MMAChile @INDAP_Chile y @ODEPA \\n\\n▶️ https://t.co/vroX9wyNDJ https://t.co/j0i4yDOMkk</td>\n",
       "    </tr>\n",
       "    <tr>\n",
       "      <th>25</th>\n",
       "      <td>2022-08-24 18:00:02+00:00</td>\n",
       "      <td>pelotazo</td>\n",
       "      <td>GOLEADOR. Habla Acosta: \"Me llena de orgullo que #LosCruzados me recuerden con cariño y poniéndome entre los tres o cuatro mejores de la historia\". #Chile \\n\\n👉 https://t.co/snfnqg3eih https://t.co/xf5rFiS00w</td>\n",
       "    </tr>\n",
       "    <tr>\n",
       "      <th>26</th>\n",
       "      <td>2022-08-24 18:00:00+00:00</td>\n",
       "      <td>ASChile</td>\n",
       "      <td>Sammis Reyes cambia de rumbo... \\nhttps://t.co/ehtC2cI43m</td>\n",
       "    </tr>\n",
       "    <tr>\n",
       "      <th>27</th>\n",
       "      <td>2022-08-24 18:00:00+00:00</td>\n",
       "      <td>GrandeAutos</td>\n",
       "      <td>2020 Toyota Prius C 1.5 Hybrid Automático\\nHIBRIDO! 22.150 KM - $17.500.000\\nLuz Garavito +56 9 3417 9103\\nhttps://t.co/7rIocvunxG\\n\\n#GrandeAutos #vinadelmar #chile #futbolchileno #futbol #ligachilena #chiledeportes #instachile #valparaiso https://t.co/aYdBY5veXC</td>\n",
       "    </tr>\n",
       "    <tr>\n",
       "      <th>28</th>\n",
       "      <td>2022-08-24 17:59:58+00:00</td>\n",
       "      <td>juancristobal_p</td>\n",
       "      <td>El pisco es como el covid  existe solo en chile</td>\n",
       "    </tr>\n",
       "    <tr>\n",
       "      <th>29</th>\n",
       "      <td>2022-08-24 17:59:56+00:00</td>\n",
       "      <td>ofd01</td>\n",
       "      <td>@Jaime_Bassa \\n Carabineros uyudo a una enemiga en daa a luz a otro futuro ENEMIGO.\\n   \"Simplemente, Jaime Bassa es un AWEONAO\"\\nEstimada red, los invito a  Compartir alguna imagen donde Carabinerosvde Chile atiende y coopera con sus enemigos.\\n https://t.co/VbS6WoO083 https://t.co/vNAMfkUzmq</td>\n",
       "    </tr>\n",
       "  </tbody>\n",
       "</table>\n",
       "</div>"
      ],
      "text/plain": [
       "                        Time             User  \\\n",
       "0  2022-08-24 18:04:07+00:00        chilesust   \n",
       "1  2022-08-24 18:04:04+00:00    soldadito1951   \n",
       "2  2022-08-24 18:03:58+00:00       InfinitaFM   \n",
       "3  2022-08-24 18:03:57+00:00        PDI_CHILE   \n",
       "4  2022-08-24 18:03:55+00:00     ChileanLeech   \n",
       "5  2022-08-24 18:03:46+00:00  AnibalMirandaRu   \n",
       "6  2022-08-24 18:03:13+00:00     sebaalisboaf   \n",
       "7  2022-08-24 18:03:06+00:00     mellapolanco   \n",
       "8  2022-08-24 18:02:28+00:00  Bullamaniatic0s   \n",
       "9  2022-08-24 18:02:17+00:00     janecarvajal   \n",
       "10 2022-08-24 18:02:15+00:00  RicardoCappele7   \n",
       "11 2022-08-24 18:02:03+00:00       brucejavi3   \n",
       "12 2022-08-24 18:02:00+00:00           uchile   \n",
       "13 2022-08-24 18:01:51+00:00      Valerie4040   \n",
       "14 2022-08-24 18:01:34+00:00      Claudio_eea   \n",
       "15 2022-08-24 18:01:33+00:00       Peart_Neal   \n",
       "16 2022-08-24 18:01:24+00:00     Estrategiacl   \n",
       "17 2022-08-24 18:01:15+00:00   eduardoaguiles   \n",
       "18 2022-08-24 18:00:49+00:00   apuntesyviajes   \n",
       "19 2022-08-24 18:00:45+00:00      lasinfonica   \n",
       "20 2022-08-24 18:00:42+00:00   ChileTodayNews   \n",
       "21 2022-08-24 18:00:29+00:00      LiliZunigaM   \n",
       "22 2022-08-24 18:00:23+00:00        JMGallo99   \n",
       "23 2022-08-24 18:00:19+00:00   harayasanhueza   \n",
       "24 2022-08-24 18:00:05+00:00  FAOCapacitacion   \n",
       "25 2022-08-24 18:00:02+00:00         pelotazo   \n",
       "26 2022-08-24 18:00:00+00:00          ASChile   \n",
       "27 2022-08-24 18:00:00+00:00      GrandeAutos   \n",
       "28 2022-08-24 17:59:58+00:00  juancristobal_p   \n",
       "29 2022-08-24 17:59:56+00:00            ofd01   \n",
       "\n",
       "                                                                                                                                                                                                                                                                                                                                                                                                                                                 Tweet  \n",
       "0                                                                                                                                          ¡CONSTITUCIÓN! Gran día. la primera #ConstituciónEcológica de la Historia de #Chile y la primera #paritaria. Les invitamos a ser parte de la historia. Con esta Carta Magna tendremos muchas posibilidades de seguir creciendo hacia un futuro más sustentable para nuestrxs hijxs. https://t.co/F6IfYrijjp  \n",
       "1                                                                                                                                                                                                                                                                                                                                                                                             Pero en Chile siguen subiendo !! https://t.co/UKSKuSFkUf  \n",
       "2                                                                                                                                                         #Encuesta | Ante el gran rendimiento de Darío Osorio de la Universidad de Chile, en #SalimosJugandoEnCancha queremos saber:\\n\\n¿Cuál es el mejor escenario para Osorio al corto plazo?\\n\\nEscucha a @DiegoSanchezJ, @HugoMarcone, @gonzalofullu y @PatricioErland en https://t.co/r7wN21hZUP  \n",
       "3                                                                                                                                                                                                                                                                                                                                              [Ahora] En la Región del Biobío, PDI detuvo a Héctor Llaitul en virtud a orden judicial. En desarrollo.  \n",
       "4                                                                                                                                                                                                                                                                                                                                                                    #Chile #Comunismo #comunistas #ComunismoEsMiseria #Nazbol https://t.co/fAAXv0pJAj  \n",
       "5                                                                                                                                                                                                                                                                                 🖥💾📡🔌💡TECNO EN #COOPERATIVA 🇨🇱 #tecnologia #chile #cooperativa En Alemania debuta el primer tren de pasajeros con hidrógeno: https://t.co/Hye6i5Nrtd via @Cooperativa  \n",
       "6                                                                                                                                                                                                                                                                                                                                                                                                           @mvacarezza cuando vuelvas a vivir a Chile  \n",
       "7                                                                                                                                                                                                                                                                                                                                                        Detienen a Héctor Llaitul en #Cañete. #Llaitul #Chile #Cam #Araucania https://t.co/sHV75sP7KV  \n",
       "8                                                                                                                                                                                                                                                                                                ¿Llegará al Clásico Universitario contra la UC? Luis Casanova volvió a jugar en la U tras dura lesión https://t.co/uTNtKX1PD7 https://t.co/gtOyvzSiY1  \n",
       "9                                                                                                                                                                                                                                                                                                                                                                                                                @MarcelaAninat Yo lo veo en CNN Chile  \n",
       "10                                                                                                                                        Crimen organizado desatado,cuando en Chile agoniza un #GobiernoTerminado.BORIC NO ejerce el Principio De Autoridad, no manda!.. OCLOCRACIA de #TEILLERYELPARTIDOCOMUNISTA NOS  lleva a una #DictaduraMarxista ,con CONTROL SOCIAL de los medios 📺 24/7\\n#RechazoLaDestruccionDeChile https://t.co/QT3eVtIqAE  \n",
       "11                                                                                                                                                                                                                                                                                                                                                                                                            @Amarillos_Chile https://t.co/Y0CrKXdBi3  \n",
       "12                                                                                                                                                                                                          U. de Chile abre las postulaciones al Premio Azul Comunidad para proyectos triestamentales. Tienes plazo hasta el 29 de septiembre. Más detalles, como las bases, dónde postular y más en: https://t.co/EUn5aCHs1y https://t.co/UWNdsl4eG0  \n",
       "13  @MiDerechoEducar @Mineduc @IngridRojasSilv @bohn_ingrid @dr_pegarcia @CONACEP_Chile @confepachile @Sonjitarockstar @0324Marta @FridaSiKahlo @PanchoFritis @jtgazmuri \"Discriminar\" una palabra muy usada, temida y odiada, pero que muchas veces y en positivo, ayuda a mucha gente...hoy muchos padres de alumnos que necesitan ser discriminados para poder obtener un tratamiento especial se ven vulnerados en la NC...como prueba un botón...  \n",
       "14                                                                                                                                                                                                                                        @gabrielboric Que tiene que ver un chile más justo e inclusivo con bajarlas horas laborales. Preocupese de la delincuencia, narcotráfico, ingreso de ilegales, Región de la la Araucania, Bio Bio y Los Ríos  \n",
       "15                                                                                                                                                                                                                                                                                                                                                           @HuracanRodrigui Menos mal que Chile no se prestó para el juego 😜 https://t.co/2uosbnEYWo  \n",
       "16                                                                                                                                                                                                                                                                                                                                                                                              Criar en la abundancia https://t.co/LW1Y5vm7XM\\n#Chile  \n",
       "17                                                                                                                                                                                                                                                                                                @loreto875433 @simonni17 @latercera Último minuto; detenido el terrorista Héctor Llaitul. Noticia en desarrollo. Viva Chile. https://t.co/2UsWuX1yTB  \n",
       "18                                                                                                                                                                                                                                                                                                👉🏼 Cómo llegar al Paseo 21 de Mayo desde la Aduana 🥾\\nhttps://t.co/6ayO5QLfKx #ApuntesyViajes 🧳🌎 #GuíasValparaíso #Chile 🚎🇨🇱 https://t.co/Kt0uLK5lqR  \n",
       "19                                                                                                                                                             𝐂𝐨𝐧𝐜𝐢𝐞𝐫𝐭𝐨: 𝐏𝐥𝐚𝐳𝐚 / 𝐑𝐢𝐦𝐬𝐤𝐲-𝐊𝐨𝐫𝐬𝐚𝐤𝐨𝐯\\n@lasinfonica\\nTeatro @uchile\\nSábado 27 de agosto, 17:00 horas.\\nDirector: Rodolfo Saglimbeni\\nEntradas en \\nhttps://t.co/IiLM0zktKY y boletería del Teatro \\n\\nDescuentos para est., a. mayores y funcionarios U. de Chile https://t.co/ZXyE4dFFqy  \n",
       "20                                                                                                                                    The government is already planning ahead in case Rechazo wins the Sept. 4 plebiscite. Many have proposed a vote for yet another Constitutional Convention or referendum. Chile's Electoral Service (Servel) President Andrés Tagle clarified that 125 days must pass before another vote https://t.co/oueOI0x6Y4  \n",
       "21                                                                                                                                                                                                                                                                                                    El 4 de Septiembre voto #Apruebo nuestra Nueva Constitución. \\nEl 4 de Septiembre voto #Apruebo por un Chile para todos. https://t.co/ZwelYzluKv  \n",
       "22                                                                                                                                                                                                                                                                                                                                              VIVA CHILE Y EL GLORIOSO GOBIERNO DEL PRESIDENTE BORIĆ https://t.co/0LGu0FBDoA https://t.co/olBo0oKR6T  \n",
       "23                                                                                                                                                                                                                                                                                                                                                            @Danita35Q Jajajaja en Uno llamado Chile, donde salió presidente un payaso en Marzo 2022  \n",
       "24                                                                                                                                     🎓 Capacitación en #Biodiversidad y #Conservación en Chile 🇨🇱\\n\\n🤝 Integró los proyectos @theGEF Red #SIPAN y Especies amenazadas \\n\\n✅ Más 600 matriculados \\n✅ 45 planes piloto \\n\\nUn esfuerzo de @FAOChile @MinagriCL @MMAChile @INDAP_Chile y @ODEPA \\n\\n▶️ https://t.co/vroX9wyNDJ https://t.co/j0i4yDOMkk  \n",
       "25                                                                                                                                                                                                                                    GOLEADOR. Habla Acosta: \"Me llena de orgullo que #LosCruzados me recuerden con cariño y poniéndome entre los tres o cuatro mejores de la historia\". #Chile \\n\\n👉 https://t.co/snfnqg3eih https://t.co/xf5rFiS00w  \n",
       "26                                                                                                                                                                                                                                                                                                                                                                                           Sammis Reyes cambia de rumbo... \\nhttps://t.co/ehtC2cI43m  \n",
       "27                                                                                                                                                                            2020 Toyota Prius C 1.5 Hybrid Automático\\nHIBRIDO! 22.150 KM - $17.500.000\\nLuz Garavito +56 9 3417 9103\\nhttps://t.co/7rIocvunxG\\n\\n#GrandeAutos #vinadelmar #chile #futbolchileno #futbol #ligachilena #chiledeportes #instachile #valparaiso https://t.co/aYdBY5veXC  \n",
       "28                                                                                                                                                                                                                                                                                                                                                                                                     El pisco es como el covid  existe solo en chile  \n",
       "29                                                                                                                                              @Jaime_Bassa \\n Carabineros uyudo a una enemiga en daa a luz a otro futuro ENEMIGO.\\n   \"Simplemente, Jaime Bassa es un AWEONAO\"\\nEstimada red, los invito a  Compartir alguna imagen donde Carabinerosvde Chile atiende y coopera con sus enemigos.\\n https://t.co/VbS6WoO083 https://t.co/vNAMfkUzmq  "
      ]
     },
     "execution_count": 163,
     "metadata": {},
     "output_type": "execute_result"
    }
   ],
   "source": [
    "pd.set_option('display.max_colwidth', None)\n",
    "df"
   ]
  },
  {
   "cell_type": "markdown",
   "id": "c330b9c0",
   "metadata": {},
   "source": [
    "#####  Guardamos el dF"
   ]
  },
  {
   "cell_type": "code",
   "execution_count": 175,
   "id": "fee00cf5",
   "metadata": {},
   "outputs": [],
   "source": [
    "filename = 'plebiscito_' + datetime.now().strftime('%m_%d_%Y_%H:%M:%S') + '.xlsx'\n",
    "# df.to_csv(filename, index = False)"
   ]
  },
  {
   "cell_type": "code",
   "execution_count": 180,
   "id": "cba39ae4",
   "metadata": {},
   "outputs": [],
   "source": [
    "df.to_excel(filename, index = False)"
   ]
  },
  {
   "cell_type": "code",
   "execution_count": 179,
   "id": "947dce53",
   "metadata": {},
   "outputs": [],
   "source": []
  },
  {
   "cell_type": "code",
   "execution_count": null,
   "id": "0fbb1d25",
   "metadata": {},
   "outputs": [],
   "source": []
  }
 ],
 "metadata": {
  "hide_input": false,
  "kernelspec": {
   "display_name": "Python 3 (ipykernel)",
   "language": "python",
   "name": "python3"
  },
  "language_info": {
   "codemirror_mode": {
    "name": "ipython",
    "version": 3
   },
   "file_extension": ".py",
   "mimetype": "text/x-python",
   "name": "python",
   "nbconvert_exporter": "python",
   "pygments_lexer": "ipython3",
   "version": "3.10.4"
  }
 },
 "nbformat": 4,
 "nbformat_minor": 5
}
