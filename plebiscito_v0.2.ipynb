{
 "cells": [
  {
   "cell_type": "code",
   "execution_count": 1,
   "id": "8bd7a4d1",
   "metadata": {},
   "outputs": [
    {
     "data": {
      "text/plain": [
       "True"
      ]
     },
     "execution_count": 1,
     "metadata": {},
     "output_type": "execute_result"
    }
   ],
   "source": [
    "import tweepy\n",
    "import json\n",
    "import pandas as pd\n",
    "import random\n",
    "from dotenv import load_dotenv\n",
    "import os\n",
    "import time\n",
    "from datetime import datetime\n",
    "load_dotenv()"
   ]
  },
  {
   "cell_type": "markdown",
   "id": "cc426b7a",
   "metadata": {},
   "source": [
    "# Sentiment analysis de tweets respecto al plebiscito en Septiembre 2022 Chile\n",
    "\n",
    "Este script busca en tweeter, con la los privilegios de la cuenta develop gratuita, los tweets según las palabras clave, la localización y las fechas determinadas.\n",
    "\n",
    "La información mas importante de cada tweet es guardado en un dataframe.\n",
    "\n",
    "La API libre de twitter tiene varias limitaciones, entre ella la fecha:\n",
    "\n",
    "    Keep in mind that the search index has a 7-day limit. In other words, no tweets will be found for a date older than one week.\n",
    "    \n",
    "No se puede traer tweets mas antiguos que una semana. Ademas del peso sobre la cantidad de tweets, que cuelga la API por 15 minutos"
   ]
  },
  {
   "cell_type": "markdown",
   "id": "13f28a49",
   "metadata": {},
   "source": [
    "##### Definición de palabras clave (_keywords_) a buscar dentro del texto de los tweets:"
   ]
  },
  {
   "cell_type": "code",
   "execution_count": 2,
   "id": "215719a4",
   "metadata": {},
   "outputs": [],
   "source": [
    "keywords_list = ['Constituyente',\n",
    "'Convención Constituyente',\n",
    "'Convención Constitucional',\n",
    "'Asamblea Constituyente',\n",
    "'plebiscito',\n",
    "'referéndum',\n",
    "'constitución chilena',\n",
    "'Acuerdo por la paz social y la Nueva Constitución',\n",
    "'Vamos por Chile',\n",
    "'Unión Demócrata Independiente',\n",
    "'Constituyentes Apartidistas',\n",
    "'Independientes No Neutrales',\n",
    "'Lista del Pueblo',\n",
    "'Apruebo Dignidad',\n",
    "'Lista del Apruebo',\n",
    "'Pueblo Constituyente']\n",
    "\n",
    "keywords_list_II = ['Chile Digno',\n",
    "'Chile Unido',\n",
    "'Unidos por Chile'\n",
    "'Chile Libre',\n",
    "'Coordinadora Constituyente Plurinacional y Popular',\n",
    "'Somos región',\n",
    "'Colectivo Socialista',\n",
    "'Independientes por una Nueva Constitución',\n",
    "'Movimientos sociales constituyentes',\n",
    "'Colectivo del Apruebo',\n",
    "'Wallmapur',\n",
    "'Elisa Loncón',\n",
    "'Campaña de desprestigio',\n",
    "'rechazo del prebiscito de 2020',\n",
    "'Carmen Gloria Valladares Moyano',\n",
    "'Elisa Loncon',\n",
    "'Destitucion de Elisa Loncon']"
   ]
  },
  {
   "cell_type": "code",
   "execution_count": 3,
   "id": "8473d54b",
   "metadata": {},
   "outputs": [],
   "source": [
    "keywords_list = [\"(\" + word + \")\" for word in keywords_list]"
   ]
  },
  {
   "cell_type": "markdown",
   "id": "7e55ba0a",
   "metadata": {},
   "source": [
    "'#DestitucionDeElisaLoncon',\n",
    "'juicio político',\n",
    "'Jaime Bassa',\n",
    "'Marcela Cubillos',\n",
    "'Jaime Mañalich',\n",
    "'Autodesprestigio',\n",
    "'María Elisa Quinteros Cáceres',\n",
    "'Gaspar Dominguez Donoso']"
   ]
  },
  {
   "cell_type": "code",
   "execution_count": 4,
   "id": "25be32d1",
   "metadata": {},
   "outputs": [],
   "source": [
    "keywords_list  = ' OR '.join(keywords_list)"
   ]
  },
  {
   "cell_type": "code",
   "execution_count": 5,
   "id": "457ac2cd",
   "metadata": {},
   "outputs": [
    {
     "data": {
      "text/plain": [
       "'(Constituyente) OR (Convención Constituyente) OR (Convención Constitucional) OR (Asamblea Constituyente) OR (plebiscito) OR (referéndum) OR (constitución chilena) OR (Acuerdo por la paz social y la Nueva Constitución) OR (Vamos por Chile) OR (Unión Demócrata Independiente) OR (Constituyentes Apartidistas) OR (Independientes No Neutrales) OR (Lista del Pueblo) OR (Apruebo Dignidad) OR (Lista del Apruebo) OR (Pueblo Constituyente)'"
      ]
     },
     "execution_count": 5,
     "metadata": {},
     "output_type": "execute_result"
    }
   ],
   "source": [
    "keywords_list"
   ]
  },
  {
   "cell_type": "markdown",
   "id": "27ce9154",
   "metadata": {},
   "source": [
    "#### Funciones\n",
    "El script tiene dos funciones principales:\n",
    "- Activación de la API con las credenciales\n",
    "- Búsqueda de los tweets con lo parámetros definidos"
   ]
  },
  {
   "cell_type": "markdown",
   "id": "2d7650e0",
   "metadata": {},
   "source": [
    "##### Función Activación"
   ]
  },
  {
   "cell_type": "code",
   "execution_count": 6,
   "id": "59f6b2fd",
   "metadata": {},
   "outputs": [],
   "source": [
    "# Función de generación de la API\n",
    "def oauth():\n",
    "    #Pass in our twitter API authentication key\n",
    "    consumer_key = os.getenv('CONSUMER_KEY')\n",
    "    consumer_secret = os.getenv('CONSUMER_SECRET')\n",
    "    access_token = os.getenv('ACCESS_TOKEN')\n",
    "    access_token_secret = os.getenv('ACCESS_TOKEN_SECRET')\n",
    "    auth = tweepy.OAuth1UserHandler(\n",
    "        consumer_key, consumer_secret,\n",
    "        access_token, access_token_secret\n",
    "    )\n",
    "#     Instantiate the tweepy API\n",
    "    api = tweepy.API(auth, wait_on_rate_limit=True)\n",
    "    return api"
   ]
  },
  {
   "cell_type": "markdown",
   "id": "7766fdee",
   "metadata": {},
   "source": [
    "##### Función Búsqueda"
   ]
  },
  {
   "cell_type": "code",
   "execution_count": 7,
   "id": "e44e83c4",
   "metadata": {},
   "outputs": [],
   "source": [
    "# Función de búsqueda de tweets según los keywords, cantidad y localización\n",
    "def search(geo, search_query, page_limit):\n",
    "    page_no = 1\n",
    "    # Creamos las columnas para el DataFrame\n",
    "    data = []\n",
    "    dict = {}\n",
    "    page_no = 1\n",
    "\n",
    "    df = pd.DataFrame()\n",
    "    columns = ['Time','User', 'Tweet']\n",
    "    try:\n",
    "        # Lanzamos la búsqueda\n",
    "        pages = tweepy.Cursor(api.search_tweets,\n",
    "                              q=search_query, \n",
    "                              tweet_mode='extended', \n",
    "                              geocode = geo).pages(page_limit)\n",
    "        print(pages)\n",
    "    # Iterate through the pages and print the text of the tweets\n",
    "        for page in pages:    \n",
    "            for i in range(len(page)):\n",
    "                data.append([page[i].created_at, page[i].user.screen_name, page[i].full_text])\n",
    "            page_no += 1\n",
    "        df = pd.DataFrame(data, columns=columns)\n",
    "        return df\n",
    "    \n",
    "    except BaseException as e:\n",
    "        print('Status Failed On,',str(e))\n",
    "        return"
   ]
  },
  {
   "cell_type": "markdown",
   "id": "76f103c1",
   "metadata": {},
   "source": [
    "#### Ejecución "
   ]
  },
  {
   "cell_type": "markdown",
   "id": "7e7f09a3",
   "metadata": {},
   "source": [
    "##### Instanciamos la API"
   ]
  },
  {
   "cell_type": "code",
   "execution_count": 8,
   "id": "a44469bf",
   "metadata": {},
   "outputs": [
    {
     "data": {
      "text/plain": [
       "<tweepy.api.API at 0x7f420dbfbd00>"
      ]
     },
     "execution_count": 8,
     "metadata": {},
     "output_type": "execute_result"
    }
   ],
   "source": [
    "api = oauth()\n",
    "api"
   ]
  },
  {
   "cell_type": "markdown",
   "id": "65b16e38",
   "metadata": {},
   "source": [
    "#####  Cargamos los parámetros de búsqueda\n",
    "\n",
    "\n",
    "- `sgo`: latitud y longitud de Santiago de Chile\n",
    "- `radio`: radio en km alrededor del punto\n",
    "- `no_of_tweets`: Cantidad de tweets para cada keyword\n",
    "- `geo`: arma el feature según lo cargado anteriormente, con la ciudad y el radio.\n",
    "- `keywords_list`: Se incluye en esta sección sólo para testear. Se limita a dos palabras. Si se comenta esa línea, usa toda la lista presentada arriba)"
   ]
  },
  {
   "cell_type": "code",
   "execution_count": 9,
   "id": "f8bad0e9",
   "metadata": {},
   "outputs": [],
   "source": [
    "sgo = '-33.4489,-70.6693'\n",
    "radio = '100km'\n",
    "page_limit =2\n",
    "geo = str(sgo) + ',' + str(radio) \n",
    "# keywords_list = ['Chile'] # Comentar esta linea para usar toda la keywords_list\n"
   ]
  },
  {
   "cell_type": "code",
   "execution_count": 10,
   "id": "375573f2",
   "metadata": {},
   "outputs": [
    {
     "data": {
      "text/plain": [
       "'(Constituyente) OR (Convención Constituyente) OR (Convención Constitucional) OR (Asamblea Constituyente) OR (plebiscito) OR (referéndum) OR (constitución chilena) OR (Acuerdo por la paz social y la Nueva Constitución) OR (Vamos por Chile) OR (Unión Demócrata Independiente) OR (Constituyentes Apartidistas) OR (Independientes No Neutrales) OR (Lista del Pueblo) OR (Apruebo Dignidad) OR (Lista del Apruebo) OR (Pueblo Constituyente)'"
      ]
     },
     "execution_count": 10,
     "metadata": {},
     "output_type": "execute_result"
    }
   ],
   "source": [
    "keywords_list"
   ]
  },
  {
   "cell_type": "markdown",
   "id": "931f805e",
   "metadata": {},
   "source": [
    "#####  Lanzamos la búsqueda"
   ]
  },
  {
   "cell_type": "code",
   "execution_count": 11,
   "id": "aaee227c",
   "metadata": {},
   "outputs": [
    {
     "name": "stdout",
     "output_type": "stream",
     "text": [
      "<tweepy.cursor.IdIterator object at 0x7f420dbfb670>\n"
     ]
    }
   ],
   "source": [
    "# df = pd.DataFrame()\n",
    "df = search(geo,\n",
    "            keywords_list,\n",
    "            page_limit)\n"
   ]
  },
  {
   "cell_type": "code",
   "execution_count": 12,
   "id": "149277ef",
   "metadata": {},
   "outputs": [
    {
     "data": {
      "text/html": [
       "<div>\n",
       "<style scoped>\n",
       "    .dataframe tbody tr th:only-of-type {\n",
       "        vertical-align: middle;\n",
       "    }\n",
       "\n",
       "    .dataframe tbody tr th {\n",
       "        vertical-align: top;\n",
       "    }\n",
       "\n",
       "    .dataframe thead th {\n",
       "        text-align: right;\n",
       "    }\n",
       "</style>\n",
       "<table border=\"1\" class=\"dataframe\">\n",
       "  <thead>\n",
       "    <tr style=\"text-align: right;\">\n",
       "      <th></th>\n",
       "      <th>Time</th>\n",
       "      <th>User</th>\n",
       "      <th>Tweet</th>\n",
       "    </tr>\n",
       "  </thead>\n",
       "  <tbody>\n",
       "    <tr>\n",
       "      <th>0</th>\n",
       "      <td>2022-08-24 18:10:57</td>\n",
       "      <td>RadioUniverso</td>\n",
       "      <td>🎙 Esta mañana la Ministra de la Mujer y Equidad de Género, Antonia Orellana @totiorellanag  en #UniversoAlDía se refirió al rol que ha tenido el gobierno de informar sobre el próximo plebiscito constituyente.\\n\\n👉🏽Revive esta entrevista completa en https://t.co/abzHAYIXxJ https://t.co/BTcqIsXT4j</td>\n",
       "    </tr>\n",
       "    <tr>\n",
       "      <th>1</th>\n",
       "      <td>2022-08-24 18:10:56</td>\n",
       "      <td>el_villano_va</td>\n",
       "      <td>@ingridna740 @latercera Pasando el plebiscito lo enjuicia la justicia mapudungún que aún no se termina de ✍️ escribir :))</td>\n",
       "    </tr>\n",
       "    <tr>\n",
       "      <th>2</th>\n",
       "      <td>2022-08-24 18:10:47</td>\n",
       "      <td>marcosconba</td>\n",
       "      <td>@vladomirosevic No se adelanten, esperemos que la CAM no lo considere un agravio, semanas antes del plebiscito</td>\n",
       "    </tr>\n",
       "    <tr>\n",
       "      <th>3</th>\n",
       "      <td>2022-08-24 18:09:40</td>\n",
       "      <td>patotenia</td>\n",
       "      <td>@_renzuc No creo que la gente, especialmente la de la macrozona, modifique su voto por esto.  Si no hay represalias de la Cam antes del plebiscito, esto es un tongo.</td>\n",
       "    </tr>\n",
       "    <tr>\n",
       "      <th>4</th>\n",
       "      <td>2022-08-24 18:09:12</td>\n",
       "      <td>mauriciokegan</td>\n",
       "      <td>@Iqqdemicorazon Ojalá sea cierto y no otra movida desesperada del Gobierno ara tratar de revertir el resultado del plebiscito logrando  votos para el apruebo, para luego inventar otra Boricosas y liberarlo.</td>\n",
       "    </tr>\n",
       "    <tr>\n",
       "      <th>5</th>\n",
       "      <td>2022-08-24 18:09:08</td>\n",
       "      <td>wchgrafica</td>\n",
       "      <td>Estallido Social-Acuerdo 1/2cocinado, pero acuerdo al fin- Elección: Plebiscito/Asamblea-80% vs 20% Convencionales +de 2/3 -Texto Propuesto. Todo democráticamente x  voluntad del pueblo. Solo nos queda votar APRUEBO y cerramos el círculo. NO MAS DERECHA y sus privilegios,MIENTEN.</td>\n",
       "    </tr>\n",
       "    <tr>\n",
       "      <th>6</th>\n",
       "      <td>2022-08-24 18:08:52</td>\n",
       "      <td>1diegow</td>\n",
       "      <td>@PamJiles @biobio Para su información, Ud no acumula ningún poder en este plebiscito. Su voto no vale más que el de nadie, no hay nada que distribuir.\\n\\nOjalá todos votemos informados y con convicción. Lástima que usted no sea un ejemplo de ello.</td>\n",
       "    </tr>\n",
       "    <tr>\n",
       "      <th>7</th>\n",
       "      <td>2022-08-24 18:08:20</td>\n",
       "      <td>rositapaez</td>\n",
       "      <td>Lo de Llaitul será un tongo? \\nDe ser así, saldrá el lunes 5 a las 8 am. De no ser así va a quedar la escoba en la Araucanía. Yo no tengo buenos presentimientos. Creo que algo muy malo va a suceder antes del plebiscito. Será este el motivo? La ultraizquierda es maligna.</td>\n",
       "    </tr>\n",
       "    <tr>\n",
       "      <th>8</th>\n",
       "      <td>2022-08-24 18:08:20</td>\n",
       "      <td>javierpevec</td>\n",
       "      <td>@gonzalox214 @vladomirosevic Pero si la querella la presento Piñera. Que tiene que ver el plebiscito acá</td>\n",
       "    </tr>\n",
       "    <tr>\n",
       "      <th>9</th>\n",
       "      <td>2022-08-24 18:08:10</td>\n",
       "      <td>elias_b_l</td>\n",
       "      <td>@DeRegreso5 Como hacer entender a esta gente que ser de izquierda no significa que debes vivir al 3 y al 4, y que en el plebiscito votan chilenos habilitados estén o no en chile</td>\n",
       "    </tr>\n",
       "    <tr>\n",
       "      <th>10</th>\n",
       "      <td>2022-08-24 18:07:16</td>\n",
       "      <td>marcosconba</td>\n",
       "      <td>@latercera Se puso buena la cosa antes del plebiscito...</td>\n",
       "    </tr>\n",
       "    <tr>\n",
       "      <th>11</th>\n",
       "      <td>2022-08-24 18:06:00</td>\n",
       "      <td>latercera</td>\n",
       "      <td>🔴#LaTerceraPM | 1, 2, 3, momia es: Gobierno deja en pausa nombramientos a la espera de resultado de plebiscito y eventual cambio de gabinete https://t.co/qjRbD111B4 https://t.co/GuizmvfuI9</td>\n",
       "    </tr>\n",
       "    <tr>\n",
       "      <th>12</th>\n",
       "      <td>2022-08-24 18:05:51</td>\n",
       "      <td>mellapolanco</td>\n",
       "      <td>Cuánto tensionará la interna de Apruebo Dignidad la detención de #Llaitul?</td>\n",
       "    </tr>\n",
       "    <tr>\n",
       "      <th>13</th>\n",
       "      <td>2022-08-24 18:05:41</td>\n",
       "      <td>pilarsalast</td>\n",
       "      <td>@biobio 🤣🤣🤣🤣 lo guardan hasta después del plebiscito y luego lo dejan libre en su comunidad, con la mentira que tiene que ir a sus ceremonias en el monte. #RechazoElMamarrachoComunista</td>\n",
       "    </tr>\n",
       "    <tr>\n",
       "      <th>14</th>\n",
       "      <td>2022-08-24 18:05:35</td>\n",
       "      <td>mrprimaverista</td>\n",
       "      <td>Puede que la detención de Héctor Llaitul sea una jugada política pre plebiscito. Si lo tienen que dejar libre el tiro por la culata se escuchará hasta Júpiter.</td>\n",
       "    </tr>\n",
       "    <tr>\n",
       "      <th>15</th>\n",
       "      <td>2022-08-24 18:05:26</td>\n",
       "      <td>09nellyta</td>\n",
       "      <td>@marcodebcn Este es puro show de este desgobierno mentiroso y cómplice de los terroristas, todo sea para dar vuelta el resultado del plebiscito,  no se crean este tongo</td>\n",
       "    </tr>\n",
       "    <tr>\n",
       "      <th>16</th>\n",
       "      <td>2022-08-24 18:05:24</td>\n",
       "      <td>ElWinner5</td>\n",
       "      <td>@lucialopezchile Y así y todo el APRUEBO no tiene ganado el plebiscito. Lo que falta es autocrítica por un proceso y un resultado que no ha sido bueno. Recuerde que partió con un 80% de aprobación en el 1er plebiscito</td>\n",
       "    </tr>\n",
       "    <tr>\n",
       "      <th>17</th>\n",
       "      <td>2022-08-24 18:05:01</td>\n",
       "      <td>rodriguez_gus</td>\n",
       "      <td>Cuánto tiempo llevan pidiendo la detención de #Llaitul... y ahora que está detenido, ironizan respecto a que es una maniobra electoral por el plebiscito.\\n#Confirmado: tienen del año que les pidan. https://t.co/IMBCVMNzeu</td>\n",
       "    </tr>\n",
       "    <tr>\n",
       "      <th>18</th>\n",
       "      <td>2022-08-24 18:04:59</td>\n",
       "      <td>malaespinacheck</td>\n",
       "      <td>❌Es falso que Carabineros dejará de ser ministro de fe en el #PlebiscitoConstitucional\\n\\n👉Si el elector se encuentra a más de 200 km de su local de votación, tendrá que dejar una constancia en la comisaría el mismo 4 de septiembre.\\n\\nAquí lo explicamos:\\nhttps://t.co/cge63xqGjm</td>\n",
       "    </tr>\n",
       "    <tr>\n",
       "      <th>19</th>\n",
       "      <td>2022-08-24 18:04:36</td>\n",
       "      <td>1Dinloove</td>\n",
       "      <td>@CHVNoticias Después del plebiscito lo dejan libre. Son para ganar unos votitos para el apruebo</td>\n",
       "    </tr>\n",
       "    <tr>\n",
       "      <th>20</th>\n",
       "      <td>2022-08-24 18:04:33</td>\n",
       "      <td>Felipe_santand</td>\n",
       "      <td>La minuta de hoy para la derecha?? Webiar por el transporte público gratuito para el plebiscito https://t.co/PEN64fV0f7</td>\n",
       "    </tr>\n",
       "    <tr>\n",
       "      <th>21</th>\n",
       "      <td>2022-08-24 18:04:27</td>\n",
       "      <td>Maggiez</td>\n",
       "      <td>@Christo_MPollet @AxelCallis @IGRI48 Crro que la ciudadanía piensa distinto despues del fiasco de la lista del pueblo y todas sus lumbreras</td>\n",
       "    </tr>\n",
       "    <tr>\n",
       "      <th>22</th>\n",
       "      <td>2022-08-24 18:04:05</td>\n",
       "      <td>AlitaAbernathy</td>\n",
       "      <td>Obvio! Si necesitasn fingir proactividad estas dos semanas antes del Plebiscito.... https://t.co/XdQvU0EueJ</td>\n",
       "    </tr>\n",
       "    <tr>\n",
       "      <th>23</th>\n",
       "      <td>2022-08-24 18:03:38</td>\n",
       "      <td>Panshopero</td>\n",
       "      <td>Detuvieron a Llaitul a 2 semanas del plebiscito?\\nDenle un abrazo al genio de esa idea.</td>\n",
       "    </tr>\n",
       "    <tr>\n",
       "      <th>24</th>\n",
       "      <td>2022-08-24 18:03:30</td>\n",
       "      <td>tjholt</td>\n",
       "      <td>La derecha entró estigmatizada a este plebiscito y lo peor es que se fabricó la tonta idea que Rechazo podría ganar sin resolver su problema de credibilidad.</td>\n",
       "    </tr>\n",
       "    <tr>\n",
       "      <th>25</th>\n",
       "      <td>2022-08-24 18:03:11</td>\n",
       "      <td>ServelChile</td>\n",
       "      <td>Este 4 de septiembre votar es OBLIGATORIO. Los Juzgados de Policía Local podrán sancionar con multas de hasta $180.000 aproximadamente a quienes no voten. \\n\\n🔈 Infórmate sobre el Plebiscito Constitucional en https://t.co/7xrJM4nARn https://t.co/2vsINIUwOE</td>\n",
       "    </tr>\n",
       "    <tr>\n",
       "      <th>26</th>\n",
       "      <td>2022-08-24 18:02:42</td>\n",
       "      <td>derechouchile</td>\n",
       "      <td>#Prensa | Ciencia, investigación y género: Vania Figueroa, Danielle Zaror y Mercedes López analizan la propuesta constituyente | Investigadora de @cedi_uchile Danielle Zaror en @futuro_360 de @CNNChile | Revisa el panel completo aquí 👉 https://t.co/c7mM3An5Rb https://t.co/PbBnUii1QI</td>\n",
       "    </tr>\n",
       "    <tr>\n",
       "      <th>27</th>\n",
       "      <td>2022-08-24 18:02:01</td>\n",
       "      <td>DanyG94946959</td>\n",
       "      <td>Como estarán de urgido los Apruebo del gobierno que toman preso a Héctor Llaitun 🤔pero durará para después del plebiscito…Lo dejo escrito…</td>\n",
       "    </tr>\n",
       "    <tr>\n",
       "      <th>28</th>\n",
       "      <td>2022-08-24 18:01:04</td>\n",
       "      <td>MunicipioValpo</td>\n",
       "      <td>#Plebiscito | 🔴 Para tus dudas y preguntas sobre este 4 de septiembre, ¡Realiza tus consultas en nuestro número de información😃👍!\\n\\n#AlcaldíaCiudadana #Valparaíso https://t.co/9agfJMK7cs</td>\n",
       "    </tr>\n",
       "    <tr>\n",
       "      <th>29</th>\n",
       "      <td>2022-08-24 18:00:42</td>\n",
       "      <td>ChileTodayNews</td>\n",
       "      <td>The government is already planning ahead in case Rechazo wins the Sept. 4 plebiscite. Many have proposed a vote for yet another Constitutional Convention or referendum. Chile's Electoral Service (Servel) President Andrés Tagle clarified that 125 days must pass before another vote https://t.co/oueOI0x6Y4</td>\n",
       "    </tr>\n",
       "  </tbody>\n",
       "</table>\n",
       "</div>"
      ],
      "text/plain": [
       "                  Time             User  \\\n",
       "0  2022-08-24 18:10:57    RadioUniverso   \n",
       "1  2022-08-24 18:10:56    el_villano_va   \n",
       "2  2022-08-24 18:10:47      marcosconba   \n",
       "3  2022-08-24 18:09:40        patotenia   \n",
       "4  2022-08-24 18:09:12    mauriciokegan   \n",
       "5  2022-08-24 18:09:08       wchgrafica   \n",
       "6  2022-08-24 18:08:52          1diegow   \n",
       "7  2022-08-24 18:08:20       rositapaez   \n",
       "8  2022-08-24 18:08:20      javierpevec   \n",
       "9  2022-08-24 18:08:10        elias_b_l   \n",
       "10 2022-08-24 18:07:16      marcosconba   \n",
       "11 2022-08-24 18:06:00        latercera   \n",
       "12 2022-08-24 18:05:51     mellapolanco   \n",
       "13 2022-08-24 18:05:41      pilarsalast   \n",
       "14 2022-08-24 18:05:35   mrprimaverista   \n",
       "15 2022-08-24 18:05:26        09nellyta   \n",
       "16 2022-08-24 18:05:24        ElWinner5   \n",
       "17 2022-08-24 18:05:01    rodriguez_gus   \n",
       "18 2022-08-24 18:04:59  malaespinacheck   \n",
       "19 2022-08-24 18:04:36        1Dinloove   \n",
       "20 2022-08-24 18:04:33   Felipe_santand   \n",
       "21 2022-08-24 18:04:27          Maggiez   \n",
       "22 2022-08-24 18:04:05   AlitaAbernathy   \n",
       "23 2022-08-24 18:03:38       Panshopero   \n",
       "24 2022-08-24 18:03:30           tjholt   \n",
       "25 2022-08-24 18:03:11      ServelChile   \n",
       "26 2022-08-24 18:02:42    derechouchile   \n",
       "27 2022-08-24 18:02:01    DanyG94946959   \n",
       "28 2022-08-24 18:01:04   MunicipioValpo   \n",
       "29 2022-08-24 18:00:42   ChileTodayNews   \n",
       "\n",
       "                                                                                                                                                                                                                                                                                                               Tweet  \n",
       "0           🎙 Esta mañana la Ministra de la Mujer y Equidad de Género, Antonia Orellana @totiorellanag  en #UniversoAlDía se refirió al rol que ha tenido el gobierno de informar sobre el próximo plebiscito constituyente.\\n\\n👉🏽Revive esta entrevista completa en https://t.co/abzHAYIXxJ https://t.co/BTcqIsXT4j  \n",
       "1                                                                                                                                                                                          @ingridna740 @latercera Pasando el plebiscito lo enjuicia la justicia mapudungún que aún no se termina de ✍️ escribir :))  \n",
       "2                                                                                                                                                                                                     @vladomirosevic No se adelanten, esperemos que la CAM no lo considere un agravio, semanas antes del plebiscito  \n",
       "3                                                                                                                                              @_renzuc No creo que la gente, especialmente la de la macrozona, modifique su voto por esto.  Si no hay represalias de la Cam antes del plebiscito, esto es un tongo.  \n",
       "4                                                                                                     @Iqqdemicorazon Ojalá sea cierto y no otra movida desesperada del Gobierno ara tratar de revertir el resultado del plebiscito logrando  votos para el apruebo, para luego inventar otra Boricosas y liberarlo.  \n",
       "5                           Estallido Social-Acuerdo 1/2cocinado, pero acuerdo al fin- Elección: Plebiscito/Asamblea-80% vs 20% Convencionales +de 2/3 -Texto Propuesto. Todo democráticamente x  voluntad del pueblo. Solo nos queda votar APRUEBO y cerramos el círculo. NO MAS DERECHA y sus privilegios,MIENTEN.  \n",
       "6                                                            @PamJiles @biobio Para su información, Ud no acumula ningún poder en este plebiscito. Su voto no vale más que el de nadie, no hay nada que distribuir.\\n\\nOjalá todos votemos informados y con convicción. Lástima que usted no sea un ejemplo de ello.  \n",
       "7                                     Lo de Llaitul será un tongo? \\nDe ser así, saldrá el lunes 5 a las 8 am. De no ser así va a quedar la escoba en la Araucanía. Yo no tengo buenos presentimientos. Creo que algo muy malo va a suceder antes del plebiscito. Será este el motivo? La ultraizquierda es maligna.  \n",
       "8                                                                                                                                                                                                           @gonzalox214 @vladomirosevic Pero si la querella la presento Piñera. Que tiene que ver el plebiscito acá  \n",
       "9                                                                                                                                  @DeRegreso5 Como hacer entender a esta gente que ser de izquierda no significa que debes vivir al 3 y al 4, y que en el plebiscito votan chilenos habilitados estén o no en chile  \n",
       "10                                                                                                                                                                                                                                                          @latercera Se puso buena la cosa antes del plebiscito...  \n",
       "11                                                                                                                      🔴#LaTerceraPM | 1, 2, 3, momia es: Gobierno deja en pausa nombramientos a la espera de resultado de plebiscito y eventual cambio de gabinete https://t.co/qjRbD111B4 https://t.co/GuizmvfuI9  \n",
       "12                                                                                                                                                                                                                                        Cuánto tensionará la interna de Apruebo Dignidad la detención de #Llaitul?  \n",
       "13                                                                                                                          @biobio 🤣🤣🤣🤣 lo guardan hasta después del plebiscito y luego lo dejan libre en su comunidad, con la mentira que tiene que ir a sus ceremonias en el monte. #RechazoElMamarrachoComunista  \n",
       "14                                                                                                                                                   Puede que la detención de Héctor Llaitul sea una jugada política pre plebiscito. Si lo tienen que dejar libre el tiro por la culata se escuchará hasta Júpiter.  \n",
       "15                                                                                                                                          @marcodebcn Este es puro show de este desgobierno mentiroso y cómplice de los terroristas, todo sea para dar vuelta el resultado del plebiscito,  no se crean este tongo  \n",
       "16                                                                                         @lucialopezchile Y así y todo el APRUEBO no tiene ganado el plebiscito. Lo que falta es autocrítica por un proceso y un resultado que no ha sido bueno. Recuerde que partió con un 80% de aprobación en el 1er plebiscito  \n",
       "17                                                                                     Cuánto tiempo llevan pidiendo la detención de #Llaitul... y ahora que está detenido, ironizan respecto a que es una maniobra electoral por el plebiscito.\\n#Confirmado: tienen del año que les pidan. https://t.co/IMBCVMNzeu  \n",
       "18                          ❌Es falso que Carabineros dejará de ser ministro de fe en el #PlebiscitoConstitucional\\n\\n👉Si el elector se encuentra a más de 200 km de su local de votación, tendrá que dejar una constancia en la comisaría el mismo 4 de septiembre.\\n\\nAquí lo explicamos:\\nhttps://t.co/cge63xqGjm  \n",
       "19                                                                                                                                                                                                                   @CHVNoticias Después del plebiscito lo dejan libre. Son para ganar unos votitos para el apruebo  \n",
       "20                                                                                                                                                                                           La minuta de hoy para la derecha?? Webiar por el transporte público gratuito para el plebiscito https://t.co/PEN64fV0f7  \n",
       "21                                                                                                                                                                       @Christo_MPollet @AxelCallis @IGRI48 Crro que la ciudadanía piensa distinto despues del fiasco de la lista del pueblo y todas sus lumbreras  \n",
       "22                                                                                                                                                                                                       Obvio! Si necesitasn fingir proactividad estas dos semanas antes del Plebiscito.... https://t.co/XdQvU0EueJ  \n",
       "23                                                                                                                                                                                                                           Detuvieron a Llaitul a 2 semanas del plebiscito?\\nDenle un abrazo al genio de esa idea.  \n",
       "24                                                                                                                                                     La derecha entró estigmatizada a este plebiscito y lo peor es que se fabricó la tonta idea que Rechazo podría ganar sin resolver su problema de credibilidad.  \n",
       "25                                                  Este 4 de septiembre votar es OBLIGATORIO. Los Juzgados de Policía Local podrán sancionar con multas de hasta $180.000 aproximadamente a quienes no voten. \\n\\n🔈 Infórmate sobre el Plebiscito Constitucional en https://t.co/7xrJM4nARn https://t.co/2vsINIUwOE  \n",
       "26                       #Prensa | Ciencia, investigación y género: Vania Figueroa, Danielle Zaror y Mercedes López analizan la propuesta constituyente | Investigadora de @cedi_uchile Danielle Zaror en @futuro_360 de @CNNChile | Revisa el panel completo aquí 👉 https://t.co/c7mM3An5Rb https://t.co/PbBnUii1QI  \n",
       "27                                                                                                                                                                        Como estarán de urgido los Apruebo del gobierno que toman preso a Héctor Llaitun 🤔pero durará para después del plebiscito…Lo dejo escrito…  \n",
       "28                                                                                                                       #Plebiscito | 🔴 Para tus dudas y preguntas sobre este 4 de septiembre, ¡Realiza tus consultas en nuestro número de información😃👍!\\n\\n#AlcaldíaCiudadana #Valparaíso https://t.co/9agfJMK7cs  \n",
       "29  The government is already planning ahead in case Rechazo wins the Sept. 4 plebiscite. Many have proposed a vote for yet another Constitutional Convention or referendum. Chile's Electoral Service (Servel) President Andrés Tagle clarified that 125 days must pass before another vote https://t.co/oueOI0x6Y4  "
      ]
     },
     "execution_count": 12,
     "metadata": {},
     "output_type": "execute_result"
    }
   ],
   "source": [
    "pd.set_option('display.max_colwidth', None)\n",
    "df"
   ]
  },
  {
   "cell_type": "markdown",
   "id": "c330b9c0",
   "metadata": {},
   "source": [
    "#####  Guardamos el dF"
   ]
  },
  {
   "cell_type": "code",
   "execution_count": 13,
   "id": "fee00cf5",
   "metadata": {},
   "outputs": [],
   "source": [
    "filename = 'plebiscito_' + datetime.now().strftime('%m_%d_%Y_%H:%M:%S') + '.xlsx'\n",
    "# df.to_csv(filename, index = False)"
   ]
  },
  {
   "cell_type": "code",
   "execution_count": 14,
   "id": "6f988df1",
   "metadata": {},
   "outputs": [],
   "source": [
    "df.to_excel(filename, index = False)"
   ]
  },
  {
   "cell_type": "code",
   "execution_count": 26,
   "id": "31c83fa2",
   "metadata": {},
   "outputs": [],
   "source": [
    "def save_func(df, file_type):\n",
    "    filename = 'plebiscito_' + datetime.now().strftime('%m_%d_%Y_%H:%M:%S')\n",
    "    if file_type == 'xlsx':\n",
    "        df['Time'] = df['Time'].dt.tz_localize(None) # Excel no soporta Datatime con zonas\n",
    "        filename = filename + '.xlsx'\n",
    "        df.to_excel(filename, index = False)\n",
    "    if file_type == 'csv':\n",
    "        df.replace(',',' ', regex=True, inplace=True)\n",
    "        df.replace('\\n','', regex=True, inplace=True)\n",
    "        filename = filename + '.csv'\n",
    "        df.to_csv(filename, index = False)\n",
    "        "
   ]
  },
  {
   "cell_type": "code",
   "execution_count": 27,
   "id": "3b2d86df",
   "metadata": {},
   "outputs": [],
   "source": [
    "save_func(df, 'csv')"
   ]
  },
  {
   "cell_type": "code",
   "execution_count": null,
   "id": "9482784e",
   "metadata": {},
   "outputs": [],
   "source": []
  }
 ],
 "metadata": {
  "hide_input": false,
  "kernelspec": {
   "display_name": "Python 3 (ipykernel)",
   "language": "python",
   "name": "python3"
  },
  "language_info": {
   "codemirror_mode": {
    "name": "ipython",
    "version": 3
   },
   "file_extension": ".py",
   "mimetype": "text/x-python",
   "name": "python",
   "nbconvert_exporter": "python",
   "pygments_lexer": "ipython3",
   "version": "3.10.4"
  }
 },
 "nbformat": 4,
 "nbformat_minor": 5
}
