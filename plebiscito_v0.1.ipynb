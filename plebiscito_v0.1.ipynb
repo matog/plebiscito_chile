{
 "cells": [
  {
   "cell_type": "code",
   "execution_count": 1,
   "id": "8bd7a4d1",
   "metadata": {},
   "outputs": [
    {
     "data": {
      "text/plain": [
       "True"
      ]
     },
     "execution_count": 1,
     "metadata": {},
     "output_type": "execute_result"
    }
   ],
   "source": [
    "import tweepy\n",
    "import json\n",
    "import pandas as pd\n",
    "import random\n",
    "from dotenv import load_dotenv\n",
    "import os\n",
    "import time\n",
    "from datetime import datetime\n",
    "load_dotenv()"
   ]
  },
  {
   "cell_type": "markdown",
   "id": "cc426b7a",
   "metadata": {},
   "source": [
    "# Sentiment analysis de tweets respecto al plebiscito en Septiembre 2022 Chile\n",
    "\n",
    "Este script busca en tweeter, con la los privilegios de la cuenta develop gratuita, los tweets según las palabras clave, la localización y las fechas determinadas.\n",
    "\n",
    "La información mas importante de cada tweet es guardado en un dataframe.\n",
    "\n",
    "La API libre de twitter tiene varias limitaciones, entre ella la fecha:\n",
    "\n",
    "    Keep in mind that the search index has a 7-day limit. In other words, no tweets will be found for a date older than one week.\n",
    "    \n",
    "No se puede traer tweets mas antiguos que una semana. Ademas del peso sobre la cantidad de tweets, que cuelga la API por 15 minutos"
   ]
  },
  {
   "cell_type": "markdown",
   "id": "13f28a49",
   "metadata": {},
   "source": [
    "##### Definición de palabras clave (_keywords_) a buscar dentro del texto de los tweets:"
   ]
  },
  {
   "cell_type": "code",
   "execution_count": null,
   "id": "215719a4",
   "metadata": {},
   "outputs": [],
   "source": [
    "keywords_list = ['Constituyente',\n",
    "'Convención Constituyente',\n",
    "'Convención Constitucional',\n",
    "'Asamblea Constituyente',\n",
    "'plebiscito',\n",
    "'referéndum',\n",
    "'constitución chilena',\n",
    "'Acuerdo por la paz social y la Nueva Constitución',\n",
    "'Vamos por Chile',\n",
    "'Unión Demócrata Independiente',\n",
    "'Constituyentes Apartidistas',\n",
    "'Independientes No Neutrales',\n",
    "'Lista del Pueblo',\n",
    "'Apruebo Dignidad',\n",
    "'Lista del Apruebo',\n",
    "'Pueblo Constituyente']\n",
    "\n",
    "keywords_list_II = ['Chile Digno',\n",
    "'Chile Unido',\n",
    "'Unidos por Chile'\n",
    "'Chile Libre',\n",
    "'Coordinadora Constituyente Plurinacional y Popular',\n",
    "'Somos región',\n",
    "'Colectivo Socialista',\n",
    "'Independientes por una Nueva Constitución',\n",
    "'Movimientos sociales constituyentes',\n",
    "'Colectivo del Apruebo',\n",
    "'Wallmapur',\n",
    "'Elisa Loncón',\n",
    "'Campaña de desprestigio',\n",
    "'rechazo del prebiscito de 2020',\n",
    "'Carmen Gloria Valladares Moyano',\n",
    "'Elisa Loncon',\n",
    "'Destitucion de Elisa Loncon']"
   ]
  },
  {
   "cell_type": "code",
   "execution_count": null,
   "id": "8473d54b",
   "metadata": {},
   "outputs": [],
   "source": [
    "keywords_list = [\"(\" + word + \")\" for word in keywords_list]"
   ]
  },
  {
   "cell_type": "markdown",
   "id": "7e55ba0a",
   "metadata": {},
   "source": [
    "'#DestitucionDeElisaLoncon',\n",
    "'juicio político',\n",
    "'Jaime Bassa',\n",
    "'Marcela Cubillos',\n",
    "'Jaime Mañalich',\n",
    "'Autodesprestigio',\n",
    "'María Elisa Quinteros Cáceres',\n",
    "'Gaspar Dominguez Donoso']"
   ]
  },
  {
   "cell_type": "code",
   "execution_count": null,
   "id": "25be32d1",
   "metadata": {},
   "outputs": [],
   "source": [
    "keywords_list  = ' OR '.join(keywords_list)"
   ]
  },
  {
   "cell_type": "code",
   "execution_count": null,
   "id": "457ac2cd",
   "metadata": {},
   "outputs": [],
   "source": [
    "keywords_list"
   ]
  },
  {
   "cell_type": "markdown",
   "id": "27ce9154",
   "metadata": {},
   "source": [
    "#### Funciones\n",
    "El script tiene dos funciones principales:\n",
    "- Activación de la API con las credenciales\n",
    "- Búsqueda de los tweets con lo parámetros definidos"
   ]
  },
  {
   "cell_type": "markdown",
   "id": "2d7650e0",
   "metadata": {},
   "source": [
    "##### Función Activación"
   ]
  },
  {
   "cell_type": "code",
   "execution_count": 3,
   "id": "59f6b2fd",
   "metadata": {},
   "outputs": [],
   "source": [
    "# Función de generación de la API\n",
    "def oauth():\n",
    "    #Pass in our twitter API authentication key\n",
    "    consumer_key = os.getenv('CONSUMER_KEY')\n",
    "    consumer_secret = os.getenv('CONSUMER_SECRET')\n",
    "    access_token = os.getenv('ACCESS_TOKEN')\n",
    "    access_token_secret = os.getenv('ACCESS_TOKEN_SECRET')\n",
    "    \n",
    "    auth = tweepy.OAuth1UserHandler(\n",
    "        consumer_key, consumer_secret,\n",
    "        access_token, access_token_secret\n",
    "    )\n",
    "    #Instantiate the tweepy API\n",
    "    api = tweepy.API(auth, wait_on_rate_limit=True)\n",
    "    return api"
   ]
  },
  {
   "cell_type": "markdown",
   "id": "7766fdee",
   "metadata": {},
   "source": [
    "##### Función Búsqueda"
   ]
  },
  {
   "cell_type": "code",
   "execution_count": null,
   "id": "e44e83c4",
   "metadata": {},
   "outputs": [],
   "source": [
    "# Función de búsqueda de tweets según los keywords, cantidad y localización\n",
    "def search(geo, serch_query, no_of_tweets):\n",
    "    try:\n",
    "        #The number of tweets we want to retrieved from the search\n",
    "        tweets = api.search_tweets(\n",
    "                                   q=serch_query, \n",
    "                                   geocode = geo, \n",
    "                                   count=no_of_tweets\n",
    "                                  )\n",
    "        #Pulling Some attributes from the tweet\n",
    "        attributes_container = [[tweet.user.name, \n",
    "                                 tweet.created_at, \n",
    "                                 tweet.favorite_count, \n",
    "                                 tweet.source,  \n",
    "                                 tweet.text \n",
    "                                ] for tweet in tweets]\n",
    "        # Creamos las keys del dict para guardar la info de la lista attributes_containter\n",
    "        keys = [\"User\", \n",
    "                \"Date Created\", \n",
    "                \"Number of Likes\", \n",
    "                \"Source of Tweet\", \n",
    "                \"Tweet\"]\n",
    "        # Generamos el dict vacío\n",
    "        dict = {}\n",
    "        # Variable que se incrementa cada vez que analizamos un twit nuevo, y genera un indice en el dict\n",
    "        # para diferenciarlo del anterior\n",
    "        a=1\n",
    "        \n",
    "        # Pasamos el resultado de la búsqueda a un dict, que es lo que devuelve la función\n",
    "        # para que en el código debajo de la llamada lo convierta en DF\n",
    "        for value in tweets:\n",
    "            dict[a] = {}\n",
    "            dict[a]['User'] = value.user.name\n",
    "            dict[a]['Date Created'] = value.created_at\n",
    "            dict[a]['Number of likes'] = value.favorite_count\n",
    "            dict[a]['Source of Tweet'] = value.source\n",
    "            dict[a]['Tweet'] = value.text\n",
    "            a = a+1\n",
    "        df = pd.DataFrame()\n",
    "        df = pd.DataFrame.from_dict(dict,orient='index')\n",
    "        return df\n",
    "    except BaseException as e:\n",
    "        print('Status Failed On,',str(e))\n",
    "        return"
   ]
  },
  {
   "cell_type": "markdown",
   "id": "76f103c1",
   "metadata": {},
   "source": [
    "#### Ejecución "
   ]
  },
  {
   "cell_type": "markdown",
   "id": "7e7f09a3",
   "metadata": {
    "heading_collapsed": true
   },
   "source": [
    "##### Instanciamos la API"
   ]
  },
  {
   "cell_type": "markdown",
   "id": "8d0b8e83",
   "metadata": {
    "hidden": true
   },
   "source": [
    "api = oauth()"
   ]
  },
  {
   "cell_type": "markdown",
   "id": "65b16e38",
   "metadata": {},
   "source": [
    "#####  Cargamos los parámetros de búsqueda\n",
    "\n",
    "\n",
    "- `sgo`: latitud y longitud de Santiago de Chile\n",
    "- `radio`: radio en km alrededor del punto\n",
    "- `no_of_tweets`: Cantidad de tweets para cada keyword\n",
    "- `geo`: arma el feature según lo cargado anteriormente, con la ciudad y el radio.\n",
    "- `keywords_list`: Se incluye en esta sección sólo para testear. Se limita a dos palabras. Si se comenta esa línea, usa toda la lista presentada arriba)"
   ]
  },
  {
   "cell_type": "code",
   "execution_count": null,
   "id": "f8bad0e9",
   "metadata": {},
   "outputs": [],
   "source": [
    "sgo = '-33.4489,-70.6693'\n",
    "radio = '100km'\n",
    "no_of_tweets =100000\n",
    "geo = str(sgo) + ',' + str(radio) \n",
    "# keywords_list = ['Chile'] # Comentar esta linea para usar toda la keywords_list\n",
    "df = pd.DataFrame()"
   ]
  },
  {
   "cell_type": "markdown",
   "id": "931f805e",
   "metadata": {
    "heading_collapsed": true
   },
   "source": [
    "#####  Lanzamos la búsqueda"
   ]
  },
  {
   "cell_type": "code",
   "execution_count": null,
   "id": "aaee227c",
   "metadata": {
    "hidden": true
   },
   "outputs": [],
   "source": [
    "# df = pd.DataFrame()\n",
    "df = search(geo, \n",
    "              \"Chile\", \n",
    "              no_of_tweets)\n"
   ]
  },
  {
   "cell_type": "code",
   "execution_count": null,
   "id": "149277ef",
   "metadata": {
    "hidden": true
   },
   "outputs": [],
   "source": [
    "df"
   ]
  },
  {
   "cell_type": "code",
   "execution_count": null,
   "id": "6006c114",
   "metadata": {
    "hidden": true
   },
   "outputs": [],
   "source": [
    "# pd.options.display.max_colwidth = 240\n",
    "df"
   ]
  },
  {
   "cell_type": "markdown",
   "id": "2c6e9b3b",
   "metadata": {
    "heading_collapsed": true
   },
   "source": [
    "##### Iteración por lista de keywords, no recomendada"
   ]
  },
  {
   "cell_type": "code",
   "execution_count": null,
   "id": "f1bc523d",
   "metadata": {
    "hidden": true
   },
   "outputs": [],
   "source": [
    "for search_query in keywords_list:\n",
    "    dict = search(geo, keywords_list, no_of_tweets)\n",
    "    df1 =pd.DataFrame.from_dict(dict,orient='index')\n",
    "    frames = [df, df1]\n",
    "    df = pd.concat(frames)\n",
    "#     time.sleep(910) # Esperamos 15 minutos + 10 segundo para no reventar la API"
   ]
  },
  {
   "cell_type": "markdown",
   "id": "f9c133fb",
   "metadata": {
    "heading_collapsed": true
   },
   "source": [
    "#####  Mostramos el DF "
   ]
  },
  {
   "cell_type": "code",
   "execution_count": null,
   "id": "f6135d10",
   "metadata": {
    "hidden": true
   },
   "outputs": [],
   "source": [
    "df"
   ]
  },
  {
   "cell_type": "markdown",
   "id": "c330b9c0",
   "metadata": {},
   "source": [
    "#####  Guardamos el dF"
   ]
  },
  {
   "cell_type": "code",
   "execution_count": null,
   "id": "fee00cf5",
   "metadata": {},
   "outputs": [],
   "source": [
    "filename = 'plebiscito_' + datetime.now().strftime('%m_%d_%Y_%H:%M:%S') + '.csv'\n",
    "df.to_csv(filename, index = False)"
   ]
  },
  {
   "cell_type": "markdown",
   "id": "38c1c4fd",
   "metadata": {},
   "source": [
    "# Pagination con reasearch tokens"
   ]
  },
  {
   "cell_type": "code",
   "execution_count": 4,
   "id": "518f6dbd",
   "metadata": {},
   "outputs": [],
   "source": [
    "sgo = '-33.4489,-70.6693'\n",
    "radio = '100km'\n",
    "no_of_tweets =100000\n",
    "geo = str(sgo) + ',' + str(radio)\n",
    "\n",
    "# api = oauth()"
   ]
  },
  {
   "cell_type": "code",
   "execution_count": 8,
   "id": "9f070650",
   "metadata": {},
   "outputs": [],
   "source": []
  },
  {
   "cell_type": "code",
   "execution_count": 6,
   "id": "f031c830",
   "metadata": {},
   "outputs": [],
   "source": [
    "# Set the parameters for the search\n",
    "search = '(Convención Constituyente) OR (referéndum)'\n",
    "# Set the number of pages\n",
    "limit=2\n",
    "# Counter for printing the page number\n",
    "page_no = 1\n",
    "\n",
    "# Create columns for the DataFrame\n",
    "data = []\n",
    "columns = ['Time','User', 'Tweet']\n",
    "# Search using pagination\n",
    "pages = tweepy.Cursor(api.search_tweets,q=search, tweet_mode='extended', geocode = geo).pages(limit)\n",
    "\n",
    "# Iterate through the pages and print the text of the tweets\n",
    "for page in pages:    \n",
    "    for i in range(len(page)):\n",
    "        data.append([page[i].created_at, page[i].user.screen_name, page[i].full_text])\n",
    "    page_no += 1\n",
    "\n",
    "df = pd.DataFrame(data, columns=columns)\n"
   ]
  },
  {
   "cell_type": "code",
   "execution_count": 7,
   "id": "fd91318c",
   "metadata": {},
   "outputs": [
    {
     "data": {
      "text/html": [
       "<div>\n",
       "<style scoped>\n",
       "    .dataframe tbody tr th:only-of-type {\n",
       "        vertical-align: middle;\n",
       "    }\n",
       "\n",
       "    .dataframe tbody tr th {\n",
       "        vertical-align: top;\n",
       "    }\n",
       "\n",
       "    .dataframe thead th {\n",
       "        text-align: right;\n",
       "    }\n",
       "</style>\n",
       "<table border=\"1\" class=\"dataframe\">\n",
       "  <thead>\n",
       "    <tr style=\"text-align: right;\">\n",
       "      <th></th>\n",
       "      <th>Time</th>\n",
       "      <th>User</th>\n",
       "      <th>Tweet</th>\n",
       "    </tr>\n",
       "  </thead>\n",
       "  <tbody>\n",
       "    <tr>\n",
       "      <th>0</th>\n",
       "      <td>2022-08-24 16:37:44+00:00</td>\n",
       "      <td>MarioElias77</td>\n",
       "      <td>@gonzalo_sanchez @thecliniccl @bnavarroz El re...</td>\n",
       "    </tr>\n",
       "    <tr>\n",
       "      <th>1</th>\n",
       "      <td>2022-08-24 16:23:29+00:00</td>\n",
       "      <td>ReviewerRandom</td>\n",
       "      <td>@Michellopezy @LuisBahamondes Pues adivina: la...</td>\n",
       "    </tr>\n",
       "    <tr>\n",
       "      <th>2</th>\n",
       "      <td>2022-08-24 15:53:40+00:00</td>\n",
       "      <td>MarcoMira20</td>\n",
       "      <td>@Gusano_Rastrero A mí me parece bien el referé...</td>\n",
       "    </tr>\n",
       "    <tr>\n",
       "      <th>3</th>\n",
       "      <td>2022-08-24 14:57:55+00:00</td>\n",
       "      <td>DaphneLack</td>\n",
       "      <td>No se requiere convocar a una nueva CC. Solo c...</td>\n",
       "    </tr>\n",
       "    <tr>\n",
       "      <th>4</th>\n",
       "      <td>2022-08-24 14:20:21+00:00</td>\n",
       "      <td>aRRRaya</td>\n",
       "      <td>La minuta amarillista e hipócrita política de ...</td>\n",
       "    </tr>\n",
       "    <tr>\n",
       "      <th>5</th>\n",
       "      <td>2022-08-24 05:42:39+00:00</td>\n",
       "      <td>Otro_criticon</td>\n",
       "      <td>@SebastianRochaZ Lo que no cuenta este persona...</td>\n",
       "    </tr>\n",
       "    <tr>\n",
       "      <th>6</th>\n",
       "      <td>2022-08-24 03:57:45+00:00</td>\n",
       "      <td>recampchile</td>\n",
       "      <td>@Rodrigo16427424 @FrutillaLibert2 @gabrielbori...</td>\n",
       "    </tr>\n",
       "    <tr>\n",
       "      <th>7</th>\n",
       "      <td>2022-08-24 03:15:35+00:00</td>\n",
       "      <td>Vlathymir</td>\n",
       "      <td>@HernanLarrain Sea preciso con la información....</td>\n",
       "    </tr>\n",
       "    <tr>\n",
       "      <th>8</th>\n",
       "      <td>2022-08-24 03:14:04+00:00</td>\n",
       "      <td>_renzuc</td>\n",
       "      <td>Se acuerdan de la convención constituyente? Pr...</td>\n",
       "    </tr>\n",
       "    <tr>\n",
       "      <th>9</th>\n",
       "      <td>2022-08-24 03:07:23+00:00</td>\n",
       "      <td>wchgrafica</td>\n",
       "      <td>Legítimo: Acuerdo, elección de convencionales,...</td>\n",
       "    </tr>\n",
       "    <tr>\n",
       "      <th>10</th>\n",
       "      <td>2022-08-24 02:38:49+00:00</td>\n",
       "      <td>mevg_chile2011</td>\n",
       "      <td>@AXELKAISER @cherrAL62 Recuerdan a @Jaime_Bass...</td>\n",
       "    </tr>\n",
       "    <tr>\n",
       "      <th>11</th>\n",
       "      <td>2022-08-24 00:17:55+00:00</td>\n",
       "      <td>rucio_natural</td>\n",
       "      <td>Parece que realmente lo que les molesta es la ...</td>\n",
       "    </tr>\n",
       "    <tr>\n",
       "      <th>12</th>\n",
       "      <td>2022-08-23 23:26:02+00:00</td>\n",
       "      <td>terezana95</td>\n",
       "      <td>@biobio Claro que sí, 4/7 + referéndum en 75% ...</td>\n",
       "    </tr>\n",
       "    <tr>\n",
       "      <th>13</th>\n",
       "      <td>2022-08-23 22:52:54+00:00</td>\n",
       "      <td>24HorasTVN</td>\n",
       "      <td>@TVN ▪ #APP del texto de propuesta nueva Const...</td>\n",
       "    </tr>\n",
       "    <tr>\n",
       "      <th>14</th>\n",
       "      <td>2022-08-23 21:50:26+00:00</td>\n",
       "      <td>RigobertoCondo3</td>\n",
       "      <td>Estamos cerca del 4 de septiembre y el #Rechaz...</td>\n",
       "    </tr>\n",
       "    <tr>\n",
       "      <th>15</th>\n",
       "      <td>2022-08-23 21:43:14+00:00</td>\n",
       "      <td>martxelocortes</td>\n",
       "      <td>@AgainFlano @Cami_FloresO El 89 el progrerío a...</td>\n",
       "    </tr>\n",
       "    <tr>\n",
       "      <th>16</th>\n",
       "      <td>2022-08-23 21:36:54+00:00</td>\n",
       "      <td>RicardoCappele7</td>\n",
       "      <td>@ximerincon @alvaroelizalde @Insulza @javierma...</td>\n",
       "    </tr>\n",
       "    <tr>\n",
       "      <th>17</th>\n",
       "      <td>2022-08-23 20:24:45+00:00</td>\n",
       "      <td>RicardoCappele7</td>\n",
       "      <td>No es usted quien debe decirnos si hay otra Co...</td>\n",
       "    </tr>\n",
       "    <tr>\n",
       "      <th>18</th>\n",
       "      <td>2022-08-23 19:31:32+00:00</td>\n",
       "      <td>ReviewerRandom</td>\n",
       "      <td>@JavierMu40 @Espanacea @biobio \"No procederá p...</td>\n",
       "    </tr>\n",
       "    <tr>\n",
       "      <th>19</th>\n",
       "      <td>2022-08-23 19:08:36+00:00</td>\n",
       "      <td>DatosNC</td>\n",
       "      <td>Art. 383 y 384 Nueva Constitución.\\n\\nCon la n...</td>\n",
       "    </tr>\n",
       "    <tr>\n",
       "      <th>20</th>\n",
       "      <td>2022-08-23 19:06:20+00:00</td>\n",
       "      <td>tayrojo27</td>\n",
       "      <td>@Amarillos_Chile Les dejo artículos q tienen q...</td>\n",
       "    </tr>\n",
       "    <tr>\n",
       "      <th>21</th>\n",
       "      <td>2022-08-23 18:47:23+00:00</td>\n",
       "      <td>Belenrivera</td>\n",
       "      <td>@T13 Con ese plazo es imposible hacer un refer...</td>\n",
       "    </tr>\n",
       "    <tr>\n",
       "      <th>22</th>\n",
       "      <td>2022-08-23 17:16:03+00:00</td>\n",
       "      <td>rod_troncoso</td>\n",
       "      <td>@SoyLaIngo @d0n_cuadrad0 @ipoduje @fernando_at...</td>\n",
       "    </tr>\n",
       "    <tr>\n",
       "      <th>23</th>\n",
       "      <td>2022-08-23 17:14:05+00:00</td>\n",
       "      <td>jaimesponda</td>\n",
       "      <td>Líder del PC y eventual nuevo proceso constitu...</td>\n",
       "    </tr>\n",
       "    <tr>\n",
       "      <th>24</th>\n",
       "      <td>2022-08-23 17:12:48+00:00</td>\n",
       "      <td>rod_troncoso</td>\n",
       "      <td>@SoyLaIngo @d0n_cuadrad0 @ipoduje @fernando_at...</td>\n",
       "    </tr>\n",
       "    <tr>\n",
       "      <th>25</th>\n",
       "      <td>2022-08-23 16:59:52+00:00</td>\n",
       "      <td>Torobolino_n</td>\n",
       "      <td>Bessy tengo una duda: el artículo 383 menciona...</td>\n",
       "    </tr>\n",
       "    <tr>\n",
       "      <th>26</th>\n",
       "      <td>2022-08-23 16:33:30+00:00</td>\n",
       "      <td>PapinoMatus</td>\n",
       "      <td>Si pierde el Apruebo:\\n\\n-Tomo y discuto el Pr...</td>\n",
       "    </tr>\n",
       "    <tr>\n",
       "      <th>27</th>\n",
       "      <td>2022-08-23 16:05:01+00:00</td>\n",
       "      <td>nonchordal</td>\n",
       "      <td>#ContigoEnLaManana\\nAl ex constituyente que se...</td>\n",
       "    </tr>\n",
       "    <tr>\n",
       "      <th>28</th>\n",
       "      <td>2022-08-23 15:21:41+00:00</td>\n",
       "      <td>JorgePorChile</td>\n",
       "      <td>El voto de los adultos mayores tras la pandemi...</td>\n",
       "    </tr>\n",
       "    <tr>\n",
       "      <th>29</th>\n",
       "      <td>2022-08-23 14:26:59+00:00</td>\n",
       "      <td>Charles_scl</td>\n",
       "      <td>@RadioDuna @vladomirosevic Supraquorums: asunt...</td>\n",
       "    </tr>\n",
       "  </tbody>\n",
       "</table>\n",
       "</div>"
      ],
      "text/plain": [
       "                        Time             User  \\\n",
       "0  2022-08-24 16:37:44+00:00     MarioElias77   \n",
       "1  2022-08-24 16:23:29+00:00   ReviewerRandom   \n",
       "2  2022-08-24 15:53:40+00:00      MarcoMira20   \n",
       "3  2022-08-24 14:57:55+00:00       DaphneLack   \n",
       "4  2022-08-24 14:20:21+00:00          aRRRaya   \n",
       "5  2022-08-24 05:42:39+00:00    Otro_criticon   \n",
       "6  2022-08-24 03:57:45+00:00      recampchile   \n",
       "7  2022-08-24 03:15:35+00:00        Vlathymir   \n",
       "8  2022-08-24 03:14:04+00:00          _renzuc   \n",
       "9  2022-08-24 03:07:23+00:00       wchgrafica   \n",
       "10 2022-08-24 02:38:49+00:00   mevg_chile2011   \n",
       "11 2022-08-24 00:17:55+00:00    rucio_natural   \n",
       "12 2022-08-23 23:26:02+00:00       terezana95   \n",
       "13 2022-08-23 22:52:54+00:00       24HorasTVN   \n",
       "14 2022-08-23 21:50:26+00:00  RigobertoCondo3   \n",
       "15 2022-08-23 21:43:14+00:00   martxelocortes   \n",
       "16 2022-08-23 21:36:54+00:00  RicardoCappele7   \n",
       "17 2022-08-23 20:24:45+00:00  RicardoCappele7   \n",
       "18 2022-08-23 19:31:32+00:00   ReviewerRandom   \n",
       "19 2022-08-23 19:08:36+00:00          DatosNC   \n",
       "20 2022-08-23 19:06:20+00:00        tayrojo27   \n",
       "21 2022-08-23 18:47:23+00:00      Belenrivera   \n",
       "22 2022-08-23 17:16:03+00:00     rod_troncoso   \n",
       "23 2022-08-23 17:14:05+00:00      jaimesponda   \n",
       "24 2022-08-23 17:12:48+00:00     rod_troncoso   \n",
       "25 2022-08-23 16:59:52+00:00     Torobolino_n   \n",
       "26 2022-08-23 16:33:30+00:00      PapinoMatus   \n",
       "27 2022-08-23 16:05:01+00:00       nonchordal   \n",
       "28 2022-08-23 15:21:41+00:00    JorgePorChile   \n",
       "29 2022-08-23 14:26:59+00:00      Charles_scl   \n",
       "\n",
       "                                                Tweet  \n",
       "0   @gonzalo_sanchez @thecliniccl @bnavarroz El re...  \n",
       "1   @Michellopezy @LuisBahamondes Pues adivina: la...  \n",
       "2   @Gusano_Rastrero A mí me parece bien el referé...  \n",
       "3   No se requiere convocar a una nueva CC. Solo c...  \n",
       "4   La minuta amarillista e hipócrita política de ...  \n",
       "5   @SebastianRochaZ Lo que no cuenta este persona...  \n",
       "6   @Rodrigo16427424 @FrutillaLibert2 @gabrielbori...  \n",
       "7   @HernanLarrain Sea preciso con la información....  \n",
       "8   Se acuerdan de la convención constituyente? Pr...  \n",
       "9   Legítimo: Acuerdo, elección de convencionales,...  \n",
       "10  @AXELKAISER @cherrAL62 Recuerdan a @Jaime_Bass...  \n",
       "11  Parece que realmente lo que les molesta es la ...  \n",
       "12  @biobio Claro que sí, 4/7 + referéndum en 75% ...  \n",
       "13  @TVN ▪ #APP del texto de propuesta nueva Const...  \n",
       "14  Estamos cerca del 4 de septiembre y el #Rechaz...  \n",
       "15  @AgainFlano @Cami_FloresO El 89 el progrerío a...  \n",
       "16  @ximerincon @alvaroelizalde @Insulza @javierma...  \n",
       "17  No es usted quien debe decirnos si hay otra Co...  \n",
       "18  @JavierMu40 @Espanacea @biobio \"No procederá p...  \n",
       "19  Art. 383 y 384 Nueva Constitución.\\n\\nCon la n...  \n",
       "20  @Amarillos_Chile Les dejo artículos q tienen q...  \n",
       "21  @T13 Con ese plazo es imposible hacer un refer...  \n",
       "22  @SoyLaIngo @d0n_cuadrad0 @ipoduje @fernando_at...  \n",
       "23  Líder del PC y eventual nuevo proceso constitu...  \n",
       "24  @SoyLaIngo @d0n_cuadrad0 @ipoduje @fernando_at...  \n",
       "25  Bessy tengo una duda: el artículo 383 menciona...  \n",
       "26  Si pierde el Apruebo:\\n\\n-Tomo y discuto el Pr...  \n",
       "27  #ContigoEnLaManana\\nAl ex constituyente que se...  \n",
       "28  El voto de los adultos mayores tras la pandemi...  \n",
       "29  @RadioDuna @vladomirosevic Supraquorums: asunt...  "
      ]
     },
     "execution_count": 7,
     "metadata": {},
     "output_type": "execute_result"
    }
   ],
   "source": [
    "df"
   ]
  },
  {
   "cell_type": "code",
   "execution_count": null,
   "id": "109346ec",
   "metadata": {},
   "outputs": [],
   "source": []
  }
 ],
 "metadata": {
  "hide_input": false,
  "kernelspec": {
   "display_name": "Python 3 (ipykernel)",
   "language": "python",
   "name": "python3"
  },
  "language_info": {
   "codemirror_mode": {
    "name": "ipython",
    "version": 3
   },
   "file_extension": ".py",
   "mimetype": "text/x-python",
   "name": "python",
   "nbconvert_exporter": "python",
   "pygments_lexer": "ipython3",
   "version": "3.10.4"
  }
 },
 "nbformat": 4,
 "nbformat_minor": 5
}
