{
 "cells": [
  {
   "cell_type": "code",
   "execution_count": 14,
   "id": "8bd7a4d1",
   "metadata": {},
   "outputs": [
    {
     "data": {
      "text/plain": [
       "True"
      ]
     },
     "execution_count": 14,
     "metadata": {},
     "output_type": "execute_result"
    }
   ],
   "source": [
    "import tweepy\n",
    "import json\n",
    "import pandas as pd\n",
    "import random\n",
    "from dotenv import load_dotenv\n",
    "import os\n",
    "import time\n",
    "from datetime import datetime\n",
    "load_dotenv()"
   ]
  },
  {
   "cell_type": "markdown",
   "id": "cc426b7a",
   "metadata": {},
   "source": [
    "# Sentiment analysis de tweets respecto al plebiscito en Chile\n",
    "\n",
    "Este script busca en tweeter, con la los privilegios de la cuenta develop gratuita, los tweets según las palabras clave, la localización y las fechas determinadas.\n",
    "\n",
    "La información mas importante de cada tweet es guardado en un dataframe.\n",
    "\n",
    "La API libre de twitter tiene varias limitaciones, entre ella la fecha:\n",
    "\n",
    "    Keep in mind that the search index has a 7-day limit. In other words, no tweets will be found for a date older than one week.\n",
    "    \n",
    "No se puede traer tweets mas antiguos que una semana. Ademas del peso sobre la cantidad de tweets, que cuelga la API por 15 minutos"
   ]
  },
  {
   "cell_type": "markdown",
   "id": "13f28a49",
   "metadata": {},
   "source": [
    "##### Definición de palabras clave (_keywords_) a buscar dentro del texto de los tweets:"
   ]
  },
  {
   "cell_type": "code",
   "execution_count": 2,
   "id": "5657fac6",
   "metadata": {},
   "outputs": [],
   "source": [
    "keywords_list = ['Constituyente',\n",
    "'Convención Constituyente',\n",
    "'Convención Constitucional',\n",
    "'Asamblea Constituyente',\n",
    "'plebiscito',\n",
    "'referéndum',\n",
    "'constitución chilena',\n",
    "'Acuerdo por la paz social y la Nueva Constitución',\n",
    "'Vamos por Chile',\n",
    "'Unión Demócrata Independiente',\n",
    "'Constituyentes Apartidistas',\n",
    "'Independientes No Neutrales',\n",
    "'Lista del Pueblo',\n",
    "'Apruebo Dignidad',\n",
    "'Lista del Apruebo',\n",
    "'Pueblo Constituyente',\n",
    "'Chile Digno',\n",
    "'Chile Unido',\n",
    "'Unidos por Chile'\n",
    "'Chile Libre',\n",
    "'Coordinadora Constituyente Plurinacional y Popular',\n",
    "'Somos región',\n",
    "'Colectivo Socialista',\n",
    "'Independientes por una Nueva Constitución',\n",
    "'Movimientos sociales constituyentes',\n",
    "'Colectivo del Apruebo',\n",
    "'Wallmapur',\n",
    "'Elisa Loncón',\n",
    "'Campaña de desprestigio',\n",
    "'rechazo del prebiscito de 2020',\n",
    "'Carmen Gloria Valladares Moyano',\n",
    "'Elisa Loncon',\n",
    "'Destitucion de Elisa Loncon',\n",
    "'#DestitucionDeElisaLoncon',\n",
    "'juicio político',\n",
    "'Jaime Bassa',\n",
    "'Marcela Cubillos',\n",
    "'Jaime Mañalich',\n",
    "'Autodesprestigio',\n",
    "'María Elisa Quinteros Cáceres',\n",
    "'Gaspar Dominguez Donoso']"
   ]
  },
  {
   "cell_type": "markdown",
   "id": "27ce9154",
   "metadata": {},
   "source": [
    "#### Funciones\n",
    "El script tiene dos funciones principales:\n",
    "- Activación de la API con las credenciales\n",
    "- Búsqueda de los tweets con lo parámetros definidos"
   ]
  },
  {
   "cell_type": "markdown",
   "id": "2d7650e0",
   "metadata": {},
   "source": [
    "##### Función Activación"
   ]
  },
  {
   "cell_type": "code",
   "execution_count": 3,
   "id": "59f6b2fd",
   "metadata": {},
   "outputs": [],
   "source": [
    "# Función de generación de la API\n",
    "def oauth():\n",
    "    #Pass in our twitter API authentication key\n",
    "    consumer_key = os.getenv('CONSUMER_KEY')\n",
    "    consumer_secret = os.getenv('CONSUMER_SECRET')\n",
    "    access_token = os.getenv('ACCESS_TOKEN')\n",
    "    access_token_secret = os.getenv('ACCESS_TOKEN_SECRET')\n",
    "    \n",
    "    auth = tweepy.OAuth1UserHandler(\n",
    "        consumer_key, consumer_secret,\n",
    "        access_token, access_token_secret\n",
    "    )\n",
    "    #Instantiate the tweepy API\n",
    "    api = tweepy.API(auth, wait_on_rate_limit=True)\n",
    "    return api"
   ]
  },
  {
   "cell_type": "markdown",
   "id": "7766fdee",
   "metadata": {},
   "source": [
    "##### Función Búsqueda"
   ]
  },
  {
   "cell_type": "code",
   "execution_count": 4,
   "id": "e44e83c4",
   "metadata": {},
   "outputs": [],
   "source": [
    "# Función de búsqueda de tweets según los keywords, cantidad y localización\n",
    "def search(geo, serch_query, no_of_tweets):\n",
    "    try:\n",
    "        #The number of tweets we want to retrieved from the search\n",
    "        tweets = api.search_tweets(\n",
    "                                   q=serch_query, \n",
    "                                   geocode = geo, \n",
    "                                   count=no_of_tweets\n",
    "                                  )\n",
    "        #Pulling Some attributes from the tweet\n",
    "        attributes_container = [[tweet.user.name, \n",
    "                                 tweet.created_at, \n",
    "                                 tweet.favorite_count, \n",
    "                                 tweet.source,  \n",
    "                                 tweet.text \n",
    "                                ] for tweet in tweets]\n",
    "        # Creamos las keys del dict para guardar la info de la lista attributes_containter\n",
    "        keys = [\"User\", \n",
    "                \"Date Created\", \n",
    "                \"Number of Likes\", \n",
    "                \"Source of Tweet\", \n",
    "                \"Tweet\"]\n",
    "        # Generamos el dict vacío\n",
    "        dict = {}\n",
    "        # Variable que se incrementa cada vez que analizamos un twit nuevo, y genera un indice en el dict\n",
    "        # para diferenciarlo del anterior\n",
    "        a=1\n",
    "        \n",
    "        for value in tweets:\n",
    "            dict[a] = {}\n",
    "            dict[a]['User'] = value.user.name\n",
    "            dict[a]['Date Created'] = value.created_at\n",
    "            dict[a]['Number of likes'] = value.favorite_count\n",
    "            dict[a]['Source of Tweet'] = value.source\n",
    "            dict[a]['Tweet'] = value.text\n",
    "            a = a+1\n",
    "        return dict\n",
    "    except BaseException as e:\n",
    "        print('Status Failed On,',str(e))\n",
    "        return"
   ]
  },
  {
   "cell_type": "markdown",
   "id": "7e7f09a3",
   "metadata": {},
   "source": [
    "#### Instanciamos la API"
   ]
  },
  {
   "cell_type": "code",
   "execution_count": 5,
   "id": "621aa54d",
   "metadata": {},
   "outputs": [],
   "source": [
    "# Instanciamos al API\n",
    "api = oauth()"
   ]
  },
  {
   "cell_type": "markdown",
   "id": "65b16e38",
   "metadata": {},
   "source": [
    "#### Cargamos los parámetros de búsqueda\n",
    "\n",
    "\n",
    "- `sgo`: latitud y longitud de Santiago de Chile\n",
    "- `radio`: radio en km alrededor del punto\n",
    "- `no_of_tweets`: Cantidad de tweets para cada keyword\n",
    "- `geo`: arma el feature según lo cargado anteriormente, con la ciudad y el radio.\n",
    "- `keywords_list`: Se incluye en esta sección sólo para testear. Se limita a dos palabras. Si se comenta esa línea, usa toda la lista presentada arriba)"
   ]
  },
  {
   "cell_type": "code",
   "execution_count": 10,
   "id": "f8bad0e9",
   "metadata": {},
   "outputs": [],
   "source": [
    "sgo = '-33.4489,-70.6693'\n",
    "radio = '100km'\n",
    "no_of_tweets =1000\n",
    "geo = str(sgo) + ',' + str(radio) \n",
    "keywords_list = ['Marcela Cubillos','Jaime Mañalich'] # Comentar esta linea para usar toda la keywords_list\n",
    "df = pd.DataFrame()"
   ]
  },
  {
   "cell_type": "markdown",
   "id": "931f805e",
   "metadata": {},
   "source": [
    "#### Lanzamos la búsqueda"
   ]
  },
  {
   "cell_type": "code",
   "execution_count": 11,
   "id": "f1bc523d",
   "metadata": {},
   "outputs": [],
   "source": [
    "for search_query in keywords_list:\n",
    "    dict = search(geo, search_query, no_of_tweets)\n",
    "    df1 =pd.DataFrame.from_dict(dict,orient='index')\n",
    "    frames = [df, df1]\n",
    "    df = pd.concat(frames)\n",
    "    time.sleep(910) # Esperamos 15 minutos + 10 segundo para no reventar la API"
   ]
  },
  {
   "cell_type": "markdown",
   "id": "f9c133fb",
   "metadata": {},
   "source": [
    "#### Mostramos el DF "
   ]
  },
  {
   "cell_type": "code",
   "execution_count": 12,
   "id": "f6135d10",
   "metadata": {},
   "outputs": [
    {
     "data": {
      "text/html": [
       "<div>\n",
       "<style scoped>\n",
       "    .dataframe tbody tr th:only-of-type {\n",
       "        vertical-align: middle;\n",
       "    }\n",
       "\n",
       "    .dataframe tbody tr th {\n",
       "        vertical-align: top;\n",
       "    }\n",
       "\n",
       "    .dataframe thead th {\n",
       "        text-align: right;\n",
       "    }\n",
       "</style>\n",
       "<table border=\"1\" class=\"dataframe\">\n",
       "  <thead>\n",
       "    <tr style=\"text-align: right;\">\n",
       "      <th></th>\n",
       "      <th>User</th>\n",
       "      <th>Date Created</th>\n",
       "      <th>Number of likes</th>\n",
       "      <th>Source of Tweet</th>\n",
       "      <th>Tweet</th>\n",
       "    </tr>\n",
       "  </thead>\n",
       "  <tbody>\n",
       "    <tr>\n",
       "      <th>1</th>\n",
       "      <td>🌳🌲🍊🇨🇱 Viviluc. #AprobéCC</td>\n",
       "      <td>2022-08-20 17:23:32+00:00</td>\n",
       "      <td>4</td>\n",
       "      <td>Twitter for Android</td>\n",
       "      <td>Si crees que Marcela Cubillos, hoy en España y...</td>\n",
       "    </tr>\n",
       "    <tr>\n",
       "      <th>2</th>\n",
       "      <td>🅰️ndres #h🅰️br🅰️nuev🅰️constitucion</td>\n",
       "      <td>2022-08-20 16:27:49+00:00</td>\n",
       "      <td>5</td>\n",
       "      <td>Twitter for iPhone</td>\n",
       "      <td>@mcubillossigall @gabrielboric ojalá que la ma...</td>\n",
       "    </tr>\n",
       "    <tr>\n",
       "      <th>3</th>\n",
       "      <td>La Tercera</td>\n",
       "      <td>2022-08-20 13:50:00+00:00</td>\n",
       "      <td>69</td>\n",
       "      <td>TweetDeck</td>\n",
       "      <td>#LTSábado - Protagonistas de la Convención | M...</td>\n",
       "    </tr>\n",
       "    <tr>\n",
       "      <th>4</th>\n",
       "      <td>allthuser</td>\n",
       "      <td>2022-08-20 11:09:16+00:00</td>\n",
       "      <td>0</td>\n",
       "      <td>Twitter for iPad</td>\n",
       "      <td>&amp;lt; Marcela Cubillos [ @mcubillossigall ] : “...</td>\n",
       "    </tr>\n",
       "    <tr>\n",
       "      <th>5</th>\n",
       "      <td>Pablo Torrejon</td>\n",
       "      <td>2022-08-20 05:30:21+00:00</td>\n",
       "      <td>0</td>\n",
       "      <td>Twitter Web App</td>\n",
       "      <td>@Mister_Wolf_0 Oye pero esta charla la dió ebr...</td>\n",
       "    </tr>\n",
       "    <tr>\n",
       "      <th>...</th>\n",
       "      <td>...</td>\n",
       "      <td>...</td>\n",
       "      <td>...</td>\n",
       "      <td>...</td>\n",
       "      <td>...</td>\n",
       "    </tr>\n",
       "    <tr>\n",
       "      <th>10</th>\n",
       "      <td>Pauta</td>\n",
       "      <td>2022-08-19 11:45:26+00:00</td>\n",
       "      <td>0</td>\n",
       "      <td>TweetDeck</td>\n",
       "      <td>Fallo de la Corte Suprema ordena suspender alz...</td>\n",
       "    </tr>\n",
       "    <tr>\n",
       "      <th>11</th>\n",
       "      <td>Sergio AC 🇨🇱 🇺🇦</td>\n",
       "      <td>2022-08-18 18:10:00+00:00</td>\n",
       "      <td>0</td>\n",
       "      <td>Twitter Web App</td>\n",
       "      <td>@jmanalich 👏 alguna dda penal?...derecha despi...</td>\n",
       "    </tr>\n",
       "    <tr>\n",
       "      <th>12</th>\n",
       "      <td>Agricultura</td>\n",
       "      <td>2022-08-18 13:44:26+00:00</td>\n",
       "      <td>26</td>\n",
       "      <td>TweetDeck</td>\n",
       "      <td>Jaime Mañalich afirma que pandemia está \"desat...</td>\n",
       "    </tr>\n",
       "    <tr>\n",
       "      <th>13</th>\n",
       "      <td>Mario luis</td>\n",
       "      <td>2022-08-14 00:15:42+00:00</td>\n",
       "      <td>0</td>\n",
       "      <td>Twitter for iPhone</td>\n",
       "      <td>@FranfiiVale Uds fueron por Andrés chadwic, Ví...</td>\n",
       "    </tr>\n",
       "    <tr>\n",
       "      <th>14</th>\n",
       "      <td>Vicente Bull</td>\n",
       "      <td>2022-08-12 13:50:22+00:00</td>\n",
       "      <td>0</td>\n",
       "      <td>Twitter Web App</td>\n",
       "      <td>@Guaton_10 Fernando Villegas, Jaime Mañalich, ...</td>\n",
       "    </tr>\n",
       "  </tbody>\n",
       "</table>\n",
       "<p>67 rows × 5 columns</p>\n",
       "</div>"
      ],
      "text/plain": [
       "                                  User              Date Created  \\\n",
       "1             🌳🌲🍊🇨🇱 Viviluc. #AprobéCC 2022-08-20 17:23:32+00:00   \n",
       "2   🅰️ndres #h🅰️br🅰️nuev🅰️constitucion 2022-08-20 16:27:49+00:00   \n",
       "3                           La Tercera 2022-08-20 13:50:00+00:00   \n",
       "4                            allthuser 2022-08-20 11:09:16+00:00   \n",
       "5                       Pablo Torrejon 2022-08-20 05:30:21+00:00   \n",
       "..                                 ...                       ...   \n",
       "10                               Pauta 2022-08-19 11:45:26+00:00   \n",
       "11                     Sergio AC 🇨🇱 🇺🇦 2022-08-18 18:10:00+00:00   \n",
       "12                         Agricultura 2022-08-18 13:44:26+00:00   \n",
       "13                          Mario luis 2022-08-14 00:15:42+00:00   \n",
       "14                        Vicente Bull 2022-08-12 13:50:22+00:00   \n",
       "\n",
       "    Number of likes      Source of Tweet  \\\n",
       "1                 4  Twitter for Android   \n",
       "2                 5   Twitter for iPhone   \n",
       "3                69            TweetDeck   \n",
       "4                 0     Twitter for iPad   \n",
       "5                 0      Twitter Web App   \n",
       "..              ...                  ...   \n",
       "10                0            TweetDeck   \n",
       "11                0      Twitter Web App   \n",
       "12               26            TweetDeck   \n",
       "13                0   Twitter for iPhone   \n",
       "14                0      Twitter Web App   \n",
       "\n",
       "                                                Tweet  \n",
       "1   Si crees que Marcela Cubillos, hoy en España y...  \n",
       "2   @mcubillossigall @gabrielboric ojalá que la ma...  \n",
       "3   #LTSábado - Protagonistas de la Convención | M...  \n",
       "4   &lt; Marcela Cubillos [ @mcubillossigall ] : “...  \n",
       "5   @Mister_Wolf_0 Oye pero esta charla la dió ebr...  \n",
       "..                                                ...  \n",
       "10  Fallo de la Corte Suprema ordena suspender alz...  \n",
       "11  @jmanalich 👏 alguna dda penal?...derecha despi...  \n",
       "12  Jaime Mañalich afirma que pandemia está \"desat...  \n",
       "13  @FranfiiVale Uds fueron por Andrés chadwic, Ví...  \n",
       "14  @Guaton_10 Fernando Villegas, Jaime Mañalich, ...  \n",
       "\n",
       "[67 rows x 5 columns]"
      ]
     },
     "execution_count": 12,
     "metadata": {},
     "output_type": "execute_result"
    }
   ],
   "source": [
    "df"
   ]
  },
  {
   "cell_type": "markdown",
   "id": "c330b9c0",
   "metadata": {},
   "source": [
    "#### Guardamos el dF"
   ]
  },
  {
   "cell_type": "code",
   "execution_count": 17,
   "id": "fee00cf5",
   "metadata": {},
   "outputs": [],
   "source": [
    "filename = 'plebiscito_' + datetime.now().strftime('%m_%d_%Y_%H:%M:%S') + '.csv'\n",
    "df.to_csv(filename, index = False)"
   ]
  },
  {
   "cell_type": "code",
   "execution_count": null,
   "id": "acb84202",
   "metadata": {},
   "outputs": [],
   "source": []
  }
 ],
 "metadata": {
  "hide_input": false,
  "kernelspec": {
   "display_name": "Python 3 (ipykernel)",
   "language": "python",
   "name": "python3"
  },
  "language_info": {
   "codemirror_mode": {
    "name": "ipython",
    "version": 3
   },
   "file_extension": ".py",
   "mimetype": "text/x-python",
   "name": "python",
   "nbconvert_exporter": "python",
   "pygments_lexer": "ipython3",
   "version": "3.10.4"
  }
 },
 "nbformat": 4,
 "nbformat_minor": 5
}
